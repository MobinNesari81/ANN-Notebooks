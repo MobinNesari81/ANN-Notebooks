{
  "cells": [
    {
      "attachments": {},
      "cell_type": "markdown",
      "metadata": {
        "id": "LQn79DSxXMGR"
      },
      "source": [
        "# Fasion MNIST Classifier\n",
        "__Design and Develop:__ Mobin Nesari\n",
        "\n",
        "__Course:__ Artificial Neural Networks, Bachelor Programs"
      ]
    },
    {
      "cell_type": "markdown",
      "metadata": {
        "id": "pvGSNBAjXcjJ"
      },
      "source": [
        "In this notebook, we tried to train a model to classify clothes in fasion MNIST dataset."
      ]
    },
    {
      "cell_type": "markdown",
      "metadata": {
        "id": "ohVlNg5VXtpY"
      },
      "source": [
        "## Required Packages:"
      ]
    },
    {
      "cell_type": "code",
      "execution_count": 2,
      "metadata": {
        "id": "obZ99s-6XyEN"
      },
      "outputs": [],
      "source": [
        "import numpy as np\n",
        "import torch\n",
        "import matplotlib.pyplot as plt\n",
        "from torchvision import datasets, transforms\n",
        "from torch import nn, optim\n",
        "import torch.nn.functional as fun"
      ]
    },
    {
      "cell_type": "markdown",
      "metadata": {
        "id": "N6mkDfArlGUn"
      },
      "source": [
        "## Enable Cuda"
      ]
    },
    {
      "cell_type": "code",
      "execution_count": 3,
      "metadata": {
        "id": "PzK0RY2clKN0"
      },
      "outputs": [],
      "source": [
        "if torch.cuda.is_available():  \n",
        "  dev = \"cuda:0\" \n",
        "else:  \n",
        "  dev = \"cpu\"\n",
        "\n",
        "device = torch.device(dev)"
      ]
    },
    {
      "cell_type": "markdown",
      "metadata": {
        "id": "AmaDp1V0X_ZU"
      },
      "source": [
        "## Download dataset and divide it into train and test set"
      ]
    },
    {
      "cell_type": "markdown",
      "metadata": {
        "id": "VvrO93oiaJdZ"
      },
      "source": [
        "Download dataset and divide it into trainset and testset and trainloader and testloader"
      ]
    },
    {
      "cell_type": "code",
      "execution_count": 4,
      "metadata": {
        "colab": {
          "base_uri": "https://localhost:8080/",
          "height": 451,
          "referenced_widgets": [
            "ee4f01e6a75e46b093ad7a2c913eeedc",
            "70d9961fcf5348b0be6e7b1611bfffe7",
            "09defa97281b48ca9156442e706c04f6",
            "a2036db5108f448fa5a86857ec03ec39",
            "3ffea3f662414dab9a28c1bf4670f343",
            "fd3faf5a6b2b4d41a0571da53e5d4f88",
            "ab613e7cf2ad4a4dab1b770266802348",
            "9102a933c7e340b3abb53467d3967caf",
            "cb2fc6e4b9ed4c36bfc1ca095f1f6fab",
            "ac431a747b5b4f9fae0a69a91e9c1d6d",
            "1da7f36128ae4233953c4886d3ca6821",
            "9d3607a468774b5e93495560368f27fb",
            "3644150957b2468694b7726d6c7a3ee4",
            "e0bea71c045d4e9d8a4202dfad64fc03",
            "9ba487a90b2a4a4785e818087102e9a5",
            "4e35b281e2df49b38fe361a0f651b423",
            "0d43388a60a143b2bfe3b5ecaf9384a4",
            "77df7c1fc8054275bb2797bf3cd5f565",
            "ab66add384a64d8f837e307e66b17d02",
            "e22b670302fc4e3e90df2f056634362c",
            "6dec3606e3d94ca2b50c755ee9acbae6",
            "89bf94ec747447ab83766aa6563c9ebf",
            "90d9324fb9434d77b30fe1565443c862",
            "e6c53878a2394d76b8eaeda93c90a97a",
            "09fb90a2e33c4d0b87157847d3c4352f",
            "edac8003e1914193a515c25219487e9e",
            "1493f599c8c6484e9ab6b08ad3f39c3c",
            "fe629eae9b6b4105aded7ecd52310f69",
            "af11b975a87b421091b1cdb5702b066b",
            "667e2a6eeafa4d159cbb51a17fa65220",
            "8dfad1d20b92499a8a0174f2093612c6",
            "5ee3116349154d0082eefcddc1e5a4ef",
            "7fc25d70877644f1a836c34e79bc11ca",
            "0109328934884b46bd6a8e19d0b97fc2",
            "af4146865a5e480b8962aed440b3cfc0",
            "2f102c1e097542cc954d1cc88d5ce3db",
            "8f398620b0314c319f0325ba949a1a62",
            "d235cfc458df46b58bed60fc9ea3d65d",
            "77458735a4e242f5a310090ca69af281",
            "636029b25363438bb4fa85a73ba8d34e",
            "33e82302c302439a9c58c3fc0d54c0b5",
            "6c607d8cb56248bc8c4edf26501326fb",
            "7fc26bd41dfc401489d3e7c55ae945d5",
            "be46f68cbcfd41b88019415f3cc39ff6"
          ]
        },
        "id": "nQ2eAJXpXA3L",
        "outputId": "f9afdd24-5d39-4fc6-c922-52e9611b1b90"
      },
      "outputs": [
        {
          "name": "stdout",
          "output_type": "stream",
          "text": [
            "Downloading http://fashion-mnist.s3-website.eu-central-1.amazonaws.com/train-images-idx3-ubyte.gz\n",
            "Downloading http://fashion-mnist.s3-website.eu-central-1.amazonaws.com/train-images-idx3-ubyte.gz to MNIST_data/FashionMNIST/raw/train-images-idx3-ubyte.gz\n"
          ]
        },
        {
          "data": {
            "application/vnd.jupyter.widget-view+json": {
              "model_id": "ee4f01e6a75e46b093ad7a2c913eeedc",
              "version_major": 2,
              "version_minor": 0
            },
            "text/plain": [
              "  0%|          | 0/26421880 [00:00<?, ?it/s]"
            ]
          },
          "metadata": {},
          "output_type": "display_data"
        },
        {
          "name": "stdout",
          "output_type": "stream",
          "text": [
            "Extracting MNIST_data/FashionMNIST/raw/train-images-idx3-ubyte.gz to MNIST_data/FashionMNIST/raw\n",
            "\n",
            "Downloading http://fashion-mnist.s3-website.eu-central-1.amazonaws.com/train-labels-idx1-ubyte.gz\n",
            "Downloading http://fashion-mnist.s3-website.eu-central-1.amazonaws.com/train-labels-idx1-ubyte.gz to MNIST_data/FashionMNIST/raw/train-labels-idx1-ubyte.gz\n"
          ]
        },
        {
          "data": {
            "application/vnd.jupyter.widget-view+json": {
              "model_id": "9d3607a468774b5e93495560368f27fb",
              "version_major": 2,
              "version_minor": 0
            },
            "text/plain": [
              "  0%|          | 0/29515 [00:00<?, ?it/s]"
            ]
          },
          "metadata": {},
          "output_type": "display_data"
        },
        {
          "name": "stdout",
          "output_type": "stream",
          "text": [
            "Extracting MNIST_data/FashionMNIST/raw/train-labels-idx1-ubyte.gz to MNIST_data/FashionMNIST/raw\n",
            "\n",
            "Downloading http://fashion-mnist.s3-website.eu-central-1.amazonaws.com/t10k-images-idx3-ubyte.gz\n",
            "Downloading http://fashion-mnist.s3-website.eu-central-1.amazonaws.com/t10k-images-idx3-ubyte.gz to MNIST_data/FashionMNIST/raw/t10k-images-idx3-ubyte.gz\n"
          ]
        },
        {
          "data": {
            "application/vnd.jupyter.widget-view+json": {
              "model_id": "90d9324fb9434d77b30fe1565443c862",
              "version_major": 2,
              "version_minor": 0
            },
            "text/plain": [
              "  0%|          | 0/4422102 [00:00<?, ?it/s]"
            ]
          },
          "metadata": {},
          "output_type": "display_data"
        },
        {
          "name": "stdout",
          "output_type": "stream",
          "text": [
            "Extracting MNIST_data/FashionMNIST/raw/t10k-images-idx3-ubyte.gz to MNIST_data/FashionMNIST/raw\n",
            "\n",
            "Downloading http://fashion-mnist.s3-website.eu-central-1.amazonaws.com/t10k-labels-idx1-ubyte.gz\n",
            "Downloading http://fashion-mnist.s3-website.eu-central-1.amazonaws.com/t10k-labels-idx1-ubyte.gz to MNIST_data/FashionMNIST/raw/t10k-labels-idx1-ubyte.gz\n"
          ]
        },
        {
          "data": {
            "application/vnd.jupyter.widget-view+json": {
              "model_id": "0109328934884b46bd6a8e19d0b97fc2",
              "version_major": 2,
              "version_minor": 0
            },
            "text/plain": [
              "  0%|          | 0/5148 [00:00<?, ?it/s]"
            ]
          },
          "metadata": {},
          "output_type": "display_data"
        },
        {
          "name": "stdout",
          "output_type": "stream",
          "text": [
            "Extracting MNIST_data/FashionMNIST/raw/t10k-labels-idx1-ubyte.gz to MNIST_data/FashionMNIST/raw\n",
            "\n"
          ]
        }
      ],
      "source": [
        "transform = transforms.Compose([transforms.ToTensor(),\n",
        "                                transforms.Normalize((0.5, ), (0.5, ))\n",
        "                               ])\n",
        "\n",
        "\n",
        "trainset = datasets.FashionMNIST('MNIST_data/', download = True, train = True, transform = transform)\n",
        "testset = datasets.FashionMNIST('MNIST_data/', download = True, train = False, transform = transform)\n",
        "trainloader = torch.utils.data.DataLoader(trainset, batch_size = 64, shuffle = True)\n",
        "testloader = torch.utils.data.DataLoader(testset, batch_size = 64, shuffle = True)"
      ]
    },
    {
      "cell_type": "markdown",
      "metadata": {
        "id": "9y-vZuOdaW5B"
      },
      "source": [
        "Size and shpae of images and labels"
      ]
    },
    {
      "cell_type": "code",
      "execution_count": 5,
      "metadata": {
        "colab": {
          "base_uri": "https://localhost:8080/"
        },
        "id": "PFD-_AWDaSyc",
        "outputId": "72eaffb8-8332-456e-871d-fcb9d12fba75"
      },
      "outputs": [
        {
          "name": "stdout",
          "output_type": "stream",
          "text": [
            "<class 'torch.Tensor'>\n",
            "torch.Size([64, 1, 28, 28])\n",
            "torch.Size([64])\n"
          ]
        }
      ],
      "source": [
        "data_iter = iter(trainloader)\n",
        "images, labels = data_iter.next()\n",
        "print(type(images))\n",
        "print(images.shape)\n",
        "print(labels.shape)"
      ]
    },
    {
      "cell_type": "markdown",
      "metadata": {
        "id": "dJaY4e9oa_JC"
      },
      "source": [
        "Example of an image"
      ]
    },
    {
      "cell_type": "code",
      "execution_count": 6,
      "metadata": {
        "colab": {
          "base_uri": "https://localhost:8080/",
          "height": 283
        },
        "id": "Uw_7h-Kzay12",
        "outputId": "4dbc515d-ec32-49cd-e4fe-44e6a143e0d0"
      },
      "outputs": [
        {
          "data": {
            "text/plain": [
              "<matplotlib.image.AxesImage at 0x7f0a36f67350>"
            ]
          },
          "execution_count": 6,
          "metadata": {},
          "output_type": "execute_result"
        },
        {
          "data": {
            "image/png": "[encoded data removed]",
            "text/plain": [
              "<Figure size 432x288 with 1 Axes>"
            ]
          },
          "metadata": {
            "needs_background": "light"
          },
          "output_type": "display_data"
        }
      ],
      "source": [
        "plt.imshow(images[31].numpy().squeeze(), cmap = 'Greys_r')"
      ]
    },
    {
      "cell_type": "markdown",
      "metadata": {
        "id": "WqjfuTeAc2Gk"
      },
      "source": [
        "## Define basic model"
      ]
    },
    {
      "cell_type": "code",
      "execution_count": 7,
      "metadata": {
        "id": "8UTyK57xbEXn"
      },
      "outputs": [],
      "source": [
        "base_model = nn.Sequential(nn.Linear(784, 256),\n",
        "                           nn.ReLU(),\n",
        "                           nn.Linear(256, 128),\n",
        "                           nn.ReLU(),\n",
        "                           nn.Linear(128, 64),\n",
        "                           nn.ReLU(),\n",
        "                           nn.Linear(64, 10),\n",
        "                           nn.LogSoftmax(dim=1)\n",
        "                           )"
      ]
    },
    {
      "cell_type": "markdown",
      "metadata": {
        "id": "LuDTDa-zgp1P"
      },
      "source": [
        "Define loss"
      ]
    },
    {
      "cell_type": "code",
      "execution_count": 8,
      "metadata": {
        "id": "kd5xEBXPgT_P"
      },
      "outputs": [],
      "source": [
        "criterion = nn.NLLLoss()"
      ]
    },
    {
      "cell_type": "markdown",
      "metadata": {
        "id": "TCZxcp5rg0Qb"
      },
      "source": [
        "Define optimmizer"
      ]
    },
    {
      "cell_type": "code",
      "execution_count": 9,
      "metadata": {
        "id": "J_iZaaefgx7j"
      },
      "outputs": [],
      "source": [
        "optimizer = optim.Adam(base_model.parameters(), lr= 0.002)"
      ]
    },
    {
      "cell_type": "markdown",
      "metadata": {
        "id": "ZuSqeG9phuDB"
      },
      "source": [
        "## Model run function"
      ]
    },
    {
      "cell_type": "code",
      "execution_count": 10,
      "metadata": {
        "id": "lTlW7auMhFNA"
      },
      "outputs": [],
      "source": [
        "def run_model(model, optimizer, epochs):\n",
        "  train_losses, test_losses = [], []\n",
        "\n",
        "  for e in range(epochs):\n",
        "    running_loss = 0\n",
        "    for images, labels in trainloader:\n",
        "      images = images.view(images.shape[0], -1)\n",
        "      \n",
        "      optimizer.zero_grad()\n",
        "      \n",
        "      output = model.forward(images)\n",
        "      loss = criterion(output, labels)\n",
        "      loss.backward()\n",
        "      optimizer.step()\n",
        "      \n",
        "      running_loss += loss.item()\n",
        "    else:\n",
        "      test_loss = 0\n",
        "      accuracy = 0\n",
        "      \n",
        "      with torch.no_grad():\n",
        "        model.eval()\n",
        "        \n",
        "        for images, labels in testloader:\n",
        "          images = images.view(images.shape[0], -1)\n",
        "          log_ps = model(images)\n",
        "          test_loss += criterion(log_ps, labels)\n",
        "          \n",
        "          ps = torch.exp(log_ps)\n",
        "          top_p, top_class = ps.topk(1, dim = 1)\n",
        "          equals = top_class == labels.view(*top_class.shape)\n",
        "          accuracy += torch.mean(equals.type(torch.FloatTensor))\n",
        "      \n",
        "      model.train()\n",
        "      train_losses.append(running_loss/len(trainloader))\n",
        "      test_losses.append(test_loss/len(testloader))\n",
        "      \n",
        "      print(\"Epoch: {}/{}..\".format(e+1, epochs),\n",
        "            \"Training loss: {:.3f}..\".format(running_loss/len(trainloader)),\n",
        "            \"Test loss: {:.3f}..\".format(test_loss/len(testloader)),\n",
        "            \"Test Accuracy: {:.3f}\".format(accuracy/len(testloader)))\n",
        "  return [train_losses, test_losses]"
      ]
    },
    {
      "cell_type": "markdown",
      "metadata": {
        "id": "VpIWXRKdj2eT"
      },
      "source": [
        "## Test 1"
      ]
    },
    {
      "cell_type": "code",
      "execution_count": null,
      "metadata": {
        "colab": {
          "base_uri": "https://localhost:8080/"
        },
        "id": "wObPce-SjzL1",
        "outputId": "a664b839-984c-470a-b282-0e57b96754ec"
      },
      "outputs": [
        {
          "name": "stdout",
          "output_type": "stream",
          "text": [
            "Epoch: 1/30.. Training loss: 0.515.. Test loss: 0.432.. Test Accuracy: 0.841\n",
            "Epoch: 2/30.. Training loss: 0.385.. Test loss: 0.382.. Test Accuracy: 0.858\n",
            "Epoch: 3/30.. Training loss: 0.350.. Test loss: 0.369.. Test Accuracy: 0.862\n",
            "Epoch: 4/30.. Training loss: 0.322.. Test loss: 0.428.. Test Accuracy: 0.846\n",
            "Epoch: 5/30.. Training loss: 0.304.. Test loss: 0.390.. Test Accuracy: 0.860\n",
            "Epoch: 6/30.. Training loss: 0.290.. Test loss: 0.360.. Test Accuracy: 0.873\n",
            "Epoch: 7/30.. Training loss: 0.279.. Test loss: 0.347.. Test Accuracy: 0.878\n",
            "Epoch: 8/30.. Training loss: 0.263.. Test loss: 0.362.. Test Accuracy: 0.873\n",
            "Epoch: 9/30.. Training loss: 0.258.. Test loss: 0.369.. Test Accuracy: 0.871\n",
            "Epoch: 10/30.. Training loss: 0.245.. Test loss: 0.368.. Test Accuracy: 0.875\n",
            "Epoch: 11/30.. Training loss: 0.242.. Test loss: 0.345.. Test Accuracy: 0.884\n",
            "Epoch: 12/30.. Training loss: 0.236.. Test loss: 0.356.. Test Accuracy: 0.882\n",
            "Epoch: 13/30.. Training loss: 0.222.. Test loss: 0.363.. Test Accuracy: 0.881\n",
            "Epoch: 14/30.. Training loss: 0.215.. Test loss: 0.396.. Test Accuracy: 0.876\n",
            "Epoch: 15/30.. Training loss: 0.211.. Test loss: 0.389.. Test Accuracy: 0.885\n",
            "Epoch: 16/30.. Training loss: 0.212.. Test loss: 0.364.. Test Accuracy: 0.884\n",
            "Epoch: 17/30.. Training loss: 0.200.. Test loss: 0.372.. Test Accuracy: 0.886\n",
            "Epoch: 18/30.. Training loss: 0.196.. Test loss: 0.383.. Test Accuracy: 0.882\n",
            "Epoch: 19/30.. Training loss: 0.193.. Test loss: 0.402.. Test Accuracy: 0.880\n",
            "Epoch: 20/30.. Training loss: 0.185.. Test loss: 0.405.. Test Accuracy: 0.886\n",
            "Epoch: 21/30.. Training loss: 0.180.. Test loss: 0.390.. Test Accuracy: 0.883\n",
            "Epoch: 22/30.. Training loss: 0.181.. Test loss: 0.404.. Test Accuracy: 0.883\n",
            "Epoch: 23/30.. Training loss: 0.172.. Test loss: 0.425.. Test Accuracy: 0.885\n",
            "Epoch: 24/30.. Training loss: 0.168.. Test loss: 0.405.. Test Accuracy: 0.884\n",
            "Epoch: 25/30.. Training loss: 0.165.. Test loss: 0.412.. Test Accuracy: 0.887\n",
            "Epoch: 26/30.. Training loss: 0.162.. Test loss: 0.390.. Test Accuracy: 0.887\n",
            "Epoch: 27/30.. Training loss: 0.166.. Test loss: 0.424.. Test Accuracy: 0.886\n",
            "Epoch: 28/30.. Training loss: 0.154.. Test loss: 0.422.. Test Accuracy: 0.889\n",
            "Epoch: 29/30.. Training loss: 0.151.. Test loss: 0.421.. Test Accuracy: 0.888\n",
            "Epoch: 30/30.. Training loss: 0.150.. Test loss: 0.418.. Test Accuracy: 0.889\n"
          ]
        }
      ],
      "source": [
        "results = run_model(base_model, 30)"
      ]
    },
    {
      "cell_type": "code",
      "execution_count": null,
      "metadata": {
        "colab": {
          "base_uri": "https://localhost:8080/",
          "height": 283
        },
        "id": "bfMochcVj_mb",
        "outputId": "822deb6f-3bb5-4f10-d84c-c20af5cbd37c"
      },
      "outputs": [
        {
          "data": {
            "text/plain": [
              "<matplotlib.legend.Legend at 0x7f01cdcb7350>"
            ]
          },
          "execution_count": 18,
          "metadata": {},
          "output_type": "execute_result"
        },
        {
          "data": {
            "image/png": "[encoded data removed]",
            "text/plain": [
              "<Figure size 432x288 with 1 Axes>"
            ]
          },
          "metadata": {},
          "output_type": "display_data"
        }
      ],
      "source": [
        "plt.plot(results[0], label = \"Training loss\")\n",
        "plt.plot(results[1], label = \"Validation loss\")\n",
        "plt.legend(frameon = False)"
      ]
    },
    {
      "cell_type": "markdown",
      "metadata": {
        "id": "APPrx_yO8QhW"
      },
      "source": [
        "As you can see, our training loss decreased a lot but validation loss increased. This means our model has been overfitted!"
      ]
    },
    {
      "cell_type": "markdown",
      "metadata": {
        "id": "4c_7Tank8eMB"
      },
      "source": [
        "## Test 2"
      ]
    },
    {
      "cell_type": "markdown",
      "metadata": {
        "id": "OyfQHvdA8jn7"
      },
      "source": [
        "In this test I want to see depth effect in model performace"
      ]
    },
    {
      "cell_type": "code",
      "execution_count": null,
      "metadata": {
        "id": "t1usCfwqrFHt"
      },
      "outputs": [],
      "source": [
        "depth_model_5 = nn.Sequential(nn.Linear(784, 512),\n",
        "                           nn.ReLU(),\n",
        "                           nn.Linear(512, 256),\n",
        "                           nn.ReLU(),\n",
        "                           nn.Linear(256, 128),\n",
        "                           nn.ReLU(),\n",
        "                           nn.Linear(128, 64),\n",
        "                           nn.ReLU(),\n",
        "                           nn.Linear(64, 10),\n",
        "                           nn.LogSoftmax(dim=1)\n",
        "                           )\n",
        "optimizer_5 = optim.Adam(depth_model_5.parameters(), lr= 0.002)"
      ]
    },
    {
      "cell_type": "code",
      "execution_count": null,
      "metadata": {
        "id": "ajuGFQgs9kWh"
      },
      "outputs": [],
      "source": [
        "depth_model_6 = nn.Sequential(nn.Linear(784, 512),\n",
        "                           nn.ReLU(),\n",
        "                           nn.Linear(512, 256),\n",
        "                           nn.ReLU(),\n",
        "                           nn.Linear(256, 128),\n",
        "                           nn.ReLU(),\n",
        "                           nn.Linear(128, 64),\n",
        "                           nn.ReLU(),\n",
        "                           nn.Linear(64, 32),\n",
        "                           nn.ReLU(),\n",
        "                           nn.Linear(32, 10),\n",
        "                           nn.LogSoftmax(dim=1)\n",
        "                           )\n",
        "optimizer_6 = optim.Adam(depth_model_6.parameters(), lr= 0.002)"
      ]
    },
    {
      "cell_type": "code",
      "execution_count": null,
      "metadata": {
        "id": "QAo9PoeC96Um"
      },
      "outputs": [],
      "source": [
        "depth_model_7 = nn.Sequential(nn.Linear(784, 512),\n",
        "                           nn.ReLU(),\n",
        "                           nn.Linear(512, 256),\n",
        "                           nn.ReLU(),\n",
        "                           nn.Linear(256, 128),\n",
        "                           nn.ReLU(),\n",
        "                           nn.Linear(128, 64),\n",
        "                           nn.ReLU(),\n",
        "                           nn.Linear(64, 32),\n",
        "                           nn.ReLU(),\n",
        "                           nn.Linear(32, 16),\n",
        "                           nn.ReLU(),\n",
        "                           nn.Linear(16, 10),\n",
        "                           nn.LogSoftmax(dim=1)\n",
        "                           )\n",
        "optimizer_7 = optim.Adam(depth_model_7.parameters(), lr= 0.002)"
      ]
    },
    {
      "cell_type": "code",
      "execution_count": null,
      "metadata": {
        "id": "7Hd_-azX-Fcd"
      },
      "outputs": [],
      "source": [
        "depth_model_8 = nn.Sequential(nn.Linear(784, 1024),\n",
        "                           nn.ReLU(),\n",
        "                           nn.Linear(1024, 512),\n",
        "                           nn.ReLU(),\n",
        "                           nn.Linear(512, 256),\n",
        "                           nn.ReLU(),\n",
        "                           nn.Linear(256, 128),\n",
        "                           nn.ReLU(),\n",
        "                           nn.Linear(128, 64),\n",
        "                           nn.ReLU(),\n",
        "                           nn.Linear(64, 32),\n",
        "                           nn.ReLU(),\n",
        "                           nn.Linear(32, 16),\n",
        "                           nn.ReLU(),\n",
        "                           nn.Linear(16, 10),\n",
        "                           nn.LogSoftmax(dim=1)\n",
        "                           )\n",
        "optimizer_8 = optim.Adam(depth_model_8.parameters(), lr= 0.002)"
      ]
    },
    {
      "cell_type": "code",
      "execution_count": null,
      "metadata": {
        "colab": {
          "base_uri": "https://localhost:8080/"
        },
        "id": "evTUDWGi-h_M",
        "outputId": "374bae50-9b8c-46bc-b0a5-63fbeb034742"
      },
      "outputs": [
        {
          "name": "stdout",
          "output_type": "stream",
          "text": [
            "Running model 5\n",
            "Epoch: 1/20.. Training loss: 0.243.. Test loss: 0.377.. Test Accuracy: 0.879\n",
            "Epoch: 2/20.. Training loss: 0.235.. Test loss: 0.355.. Test Accuracy: 0.880\n",
            "Epoch: 3/20.. Training loss: 0.227.. Test loss: 0.358.. Test Accuracy: 0.884\n",
            "Epoch: 4/20.. Training loss: 0.221.. Test loss: 0.349.. Test Accuracy: 0.885\n",
            "Epoch: 5/20.. Training loss: 0.213.. Test loss: 0.386.. Test Accuracy: 0.880\n",
            "Epoch: 6/20.. Training loss: 0.206.. Test loss: 0.382.. Test Accuracy: 0.883\n",
            "Epoch: 7/20.. Training loss: 0.200.. Test loss: 0.401.. Test Accuracy: 0.877\n",
            "Epoch: 8/20.. Training loss: 0.196.. Test loss: 0.389.. Test Accuracy: 0.880\n",
            "Epoch: 9/20.. Training loss: 0.191.. Test loss: 0.384.. Test Accuracy: 0.886\n",
            "Epoch: 10/20.. Training loss: 0.184.. Test loss: 0.386.. Test Accuracy: 0.885\n",
            "Epoch: 11/20.. Training loss: 0.178.. Test loss: 0.416.. Test Accuracy: 0.877\n",
            "Epoch: 12/20.. Training loss: 0.181.. Test loss: 0.399.. Test Accuracy: 0.881\n",
            "Epoch: 13/20.. Training loss: 0.171.. Test loss: 0.404.. Test Accuracy: 0.887\n",
            "Epoch: 14/20.. Training loss: 0.168.. Test loss: 0.408.. Test Accuracy: 0.880\n",
            "Epoch: 15/20.. Training loss: 0.164.. Test loss: 0.393.. Test Accuracy: 0.889\n",
            "Epoch: 16/20.. Training loss: 0.158.. Test loss: 0.420.. Test Accuracy: 0.886\n",
            "Epoch: 17/20.. Training loss: 0.152.. Test loss: 0.431.. Test Accuracy: 0.887\n",
            "Epoch: 18/20.. Training loss: 0.169.. Test loss: 0.426.. Test Accuracy: 0.887\n",
            "Epoch: 19/20.. Training loss: 0.148.. Test loss: 0.433.. Test Accuracy: 0.884\n",
            "Epoch: 20/20.. Training loss: 0.148.. Test loss: 0.421.. Test Accuracy: 0.893\n",
            "Running model 6\n",
            "Epoch: 1/20.. Training loss: 0.563.. Test loss: 0.447.. Test Accuracy: 0.841\n",
            "Epoch: 2/20.. Training loss: 0.405.. Test loss: 0.418.. Test Accuracy: 0.849\n",
            "Epoch: 3/20.. Training loss: 0.364.. Test loss: 0.403.. Test Accuracy: 0.855\n",
            "Epoch: 4/20.. Training loss: 0.337.. Test loss: 0.382.. Test Accuracy: 0.863\n",
            "Epoch: 5/20.. Training loss: 0.314.. Test loss: 0.390.. Test Accuracy: 0.860\n",
            "Epoch: 6/20.. Training loss: 0.300.. Test loss: 0.361.. Test Accuracy: 0.867\n",
            "Epoch: 7/20.. Training loss: 0.286.. Test loss: 0.369.. Test Accuracy: 0.870\n",
            "Epoch: 8/20.. Training loss: 0.274.. Test loss: 0.369.. Test Accuracy: 0.871\n",
            "Epoch: 9/20.. Training loss: 0.263.. Test loss: 0.360.. Test Accuracy: 0.872\n",
            "Epoch: 10/20.. Training loss: 0.250.. Test loss: 0.354.. Test Accuracy: 0.877\n",
            "Epoch: 11/20.. Training loss: 0.246.. Test loss: 0.345.. Test Accuracy: 0.883\n",
            "Epoch: 12/20.. Training loss: 0.237.. Test loss: 0.367.. Test Accuracy: 0.882\n",
            "Epoch: 13/20.. Training loss: 0.228.. Test loss: 0.393.. Test Accuracy: 0.874\n",
            "Epoch: 14/20.. Training loss: 0.220.. Test loss: 0.387.. Test Accuracy: 0.876\n",
            "Epoch: 15/20.. Training loss: 0.218.. Test loss: 0.359.. Test Accuracy: 0.887\n",
            "Epoch: 16/20.. Training loss: 0.206.. Test loss: 0.389.. Test Accuracy: 0.881\n",
            "Epoch: 17/20.. Training loss: 0.203.. Test loss: 0.390.. Test Accuracy: 0.876\n",
            "Epoch: 18/20.. Training loss: 0.199.. Test loss: 0.387.. Test Accuracy: 0.886\n",
            "Epoch: 19/20.. Training loss: 0.192.. Test loss: 0.409.. Test Accuracy: 0.882\n",
            "Epoch: 20/20.. Training loss: 0.188.. Test loss: 0.411.. Test Accuracy: 0.879\n",
            "Running model 7\n",
            "Epoch: 1/20.. Training loss: 0.592.. Test loss: 0.466.. Test Accuracy: 0.839\n",
            "Epoch: 2/20.. Training loss: 0.409.. Test loss: 0.433.. Test Accuracy: 0.847\n",
            "Epoch: 3/20.. Training loss: 0.372.. Test loss: 0.400.. Test Accuracy: 0.860\n",
            "Epoch: 4/20.. Training loss: 0.342.. Test loss: 0.400.. Test Accuracy: 0.864\n",
            "Epoch: 5/20.. Training loss: 0.320.. Test loss: 0.404.. Test Accuracy: 0.858\n",
            "Epoch: 6/20.. Training loss: 0.305.. Test loss: 0.383.. Test Accuracy: 0.866\n",
            "Epoch: 7/20.. Training loss: 0.290.. Test loss: 0.375.. Test Accuracy: 0.876\n",
            "Epoch: 8/20.. Training loss: 0.282.. Test loss: 0.388.. Test Accuracy: 0.872\n",
            "Epoch: 9/20.. Training loss: 0.271.. Test loss: 0.358.. Test Accuracy: 0.875\n",
            "Epoch: 10/20.. Training loss: 0.259.. Test loss: 0.380.. Test Accuracy: 0.868\n",
            "Epoch: 11/20.. Training loss: 0.251.. Test loss: 0.386.. Test Accuracy: 0.878\n",
            "Epoch: 12/20.. Training loss: 0.242.. Test loss: 0.352.. Test Accuracy: 0.881\n",
            "Epoch: 13/20.. Training loss: 0.232.. Test loss: 0.339.. Test Accuracy: 0.882\n",
            "Epoch: 14/20.. Training loss: 0.225.. Test loss: 0.363.. Test Accuracy: 0.886\n",
            "Epoch: 15/20.. Training loss: 0.217.. Test loss: 0.376.. Test Accuracy: 0.880\n",
            "Epoch: 16/20.. Training loss: 0.214.. Test loss: 0.365.. Test Accuracy: 0.886\n",
            "Epoch: 17/20.. Training loss: 0.207.. Test loss: 0.359.. Test Accuracy: 0.883\n",
            "Epoch: 18/20.. Training loss: 0.198.. Test loss: 0.376.. Test Accuracy: 0.882\n",
            "Epoch: 19/20.. Training loss: 0.194.. Test loss: 0.365.. Test Accuracy: 0.884\n",
            "Epoch: 20/20.. Training loss: 0.188.. Test loss: 0.378.. Test Accuracy: 0.890\n",
            "Running model 8\n",
            "Epoch: 1/20.. Training loss: 0.687.. Test loss: 0.539.. Test Accuracy: 0.800\n",
            "Epoch: 2/20.. Training loss: 0.475.. Test loss: 0.467.. Test Accuracy: 0.837\n",
            "Epoch: 3/20.. Training loss: 0.398.. Test loss: 0.446.. Test Accuracy: 0.844\n",
            "Epoch: 4/20.. Training loss: 0.360.. Test loss: 0.422.. Test Accuracy: 0.854\n",
            "Epoch: 5/20.. Training loss: 0.337.. Test loss: 0.424.. Test Accuracy: 0.858\n",
            "Epoch: 6/20.. Training loss: 0.323.. Test loss: 0.386.. Test Accuracy: 0.869\n",
            "Epoch: 7/20.. Training loss: 0.307.. Test loss: 0.371.. Test Accuracy: 0.872\n",
            "Epoch: 8/20.. Training loss: 0.293.. Test loss: 0.370.. Test Accuracy: 0.876\n",
            "Epoch: 9/20.. Training loss: 0.278.. Test loss: 0.369.. Test Accuracy: 0.878\n",
            "Epoch: 10/20.. Training loss: 0.271.. Test loss: 0.374.. Test Accuracy: 0.876\n",
            "Epoch: 11/20.. Training loss: 0.262.. Test loss: 0.366.. Test Accuracy: 0.880\n",
            "Epoch: 12/20.. Training loss: 0.248.. Test loss: 0.373.. Test Accuracy: 0.880\n",
            "Epoch: 13/20.. Training loss: 0.248.. Test loss: 0.358.. Test Accuracy: 0.879\n",
            "Epoch: 14/20.. Training loss: 0.238.. Test loss: 0.365.. Test Accuracy: 0.876\n",
            "Epoch: 15/20.. Training loss: 0.231.. Test loss: 0.362.. Test Accuracy: 0.884\n",
            "Epoch: 16/20.. Training loss: 0.223.. Test loss: 0.385.. Test Accuracy: 0.881\n",
            "Epoch: 17/20.. Training loss: 0.215.. Test loss: 0.385.. Test Accuracy: 0.884\n",
            "Epoch: 18/20.. Training loss: 0.214.. Test loss: 0.367.. Test Accuracy: 0.881\n",
            "Epoch: 19/20.. Training loss: 0.208.. Test loss: 0.378.. Test Accuracy: 0.885\n",
            "Epoch: 20/20.. Training loss: 0.202.. Test loss: 0.366.. Test Accuracy: 0.890\n"
          ]
        }
      ],
      "source": [
        "trains_losses = []\n",
        "test_losses = []\n",
        "models = [depth_model_5, depth_model_6, depth_model_7, depth_model_8]\n",
        "optimizers = [optimizer_5, optimizer_6, optimizer_7, optimizer_8]\n",
        "for i in range(4):\n",
        "  print(\"Running model\", i + 5)\n",
        "  results = run_model(models[i], optimizers[i], 20)\n",
        "  trains_losses.append(results[0])\n",
        "  test_losses.append(results[1])"
      ]
    },
    {
      "cell_type": "code",
      "execution_count": null,
      "metadata": {
        "colab": {
          "base_uri": "https://localhost:8080/",
          "height": 283
        },
        "id": "W0TcUyq4_JAG",
        "outputId": "a2f3dbfe-ee7e-485b-e0c8-737186b84153"
      },
      "outputs": [
        {
          "data": {
            "text/plain": [
              "<matplotlib.legend.Legend at 0x7f7a5ec99650>"
            ]
          },
          "execution_count": 30,
          "metadata": {},
          "output_type": "execute_result"
        },
        {
          "data": {
            "image/png": "[encoded data removed]",
            "text/plain": [
              "<Figure size 432x288 with 1 Axes>"
            ]
          },
          "metadata": {},
          "output_type": "display_data"
        }
      ],
      "source": [
        "plt.plot(results[0], label = \"Training loss depth 4\")\n",
        "plt.plot(results[1], label = \"Validation loss depth 4\")\n",
        "plt.plot(trains_losses[0], label = \"Training loss depth 5\")\n",
        "plt.plot(test_losses[0], label = \"Validation loss depth 5\")\n",
        "plt.plot(trains_losses[1], label = \"Training loss depth 6\")\n",
        "plt.plot(test_losses[1], label = \"Validation loss depth 6\")\n",
        "plt.plot(trains_losses[2], label = \"Training loss depth 7\")\n",
        "plt.plot(test_losses[2], label = \"Validation loss depth 7\")\n",
        "plt.plot(trains_losses[3], label = \"Training loss depth 8\")\n",
        "plt.plot(trains_losses[3], label = \"Validation loss depth 8\")\n",
        "plt.legend(frameon = False)"
      ]
    },
    {
      "cell_type": "markdown",
      "metadata": {
        "id": "xZH6L1aRJOCd"
      },
      "source": [
        "This plot shows that there is a specific depth which optimize learning curve. If we make model more depth then model will memorise dataset."
      ]
    },
    {
      "cell_type": "markdown",
      "metadata": {
        "id": "8y5N4DVsJirA"
      },
      "source": [
        "## Test 3"
      ]
    },
    {
      "cell_type": "code",
      "execution_count": null,
      "metadata": {
        "id": "Xase821HJEm5"
      },
      "outputs": [],
      "source": [
        "drop_model = nn.Sequential(nn.Linear(784, 256),\n",
        "                           nn.ReLU(),\n",
        "                           nn.Dropout(0.2),\n",
        "                           nn.Linear(256, 128),\n",
        "                           nn.ReLU(),\n",
        "                           nn.Dropout(0.2),\n",
        "                           nn.Linear(128, 64),\n",
        "                           nn.ReLU(),\n",
        "                           nn.Dropout(0.2),\n",
        "                           nn.Linear(64, 10),\n",
        "                           nn.LogSoftmax(dim=1)\n",
        "                           )\n",
        "drop_optimizer = optim.Adam(drop_model.parameters(), lr= 0.002)"
      ]
    },
    {
      "cell_type": "code",
      "execution_count": null,
      "metadata": {
        "colab": {
          "base_uri": "https://localhost:8080/"
        },
        "id": "LYUNFhW0J9fQ",
        "outputId": "ba91102c-7997-4c6a-e9ab-dc6f16705993"
      },
      "outputs": [
        {
          "name": "stdout",
          "output_type": "stream",
          "text": [
            "Epoch: 1/30.. Training loss: 0.593.. Test loss: 0.456.. Test Accuracy: 0.839\n",
            "Epoch: 2/30.. Training loss: 0.457.. Test loss: 0.417.. Test Accuracy: 0.845\n",
            "Epoch: 3/30.. Training loss: 0.414.. Test loss: 0.424.. Test Accuracy: 0.849\n",
            "Epoch: 4/30.. Training loss: 0.400.. Test loss: 0.378.. Test Accuracy: 0.864\n",
            "Epoch: 5/30.. Training loss: 0.384.. Test loss: 0.390.. Test Accuracy: 0.861\n",
            "Epoch: 6/30.. Training loss: 0.373.. Test loss: 0.368.. Test Accuracy: 0.868\n",
            "Epoch: 7/30.. Training loss: 0.360.. Test loss: 0.373.. Test Accuracy: 0.866\n",
            "Epoch: 8/30.. Training loss: 0.358.. Test loss: 0.378.. Test Accuracy: 0.861\n",
            "Epoch: 9/30.. Training loss: 0.348.. Test loss: 0.377.. Test Accuracy: 0.870\n",
            "Epoch: 10/30.. Training loss: 0.340.. Test loss: 0.372.. Test Accuracy: 0.871\n",
            "Epoch: 11/30.. Training loss: 0.341.. Test loss: 0.355.. Test Accuracy: 0.872\n",
            "Epoch: 12/30.. Training loss: 0.332.. Test loss: 0.362.. Test Accuracy: 0.872\n",
            "Epoch: 13/30.. Training loss: 0.328.. Test loss: 0.349.. Test Accuracy: 0.878\n",
            "Epoch: 14/30.. Training loss: 0.320.. Test loss: 0.356.. Test Accuracy: 0.875\n",
            "Epoch: 15/30.. Training loss: 0.315.. Test loss: 0.357.. Test Accuracy: 0.873\n",
            "Epoch: 16/30.. Training loss: 0.316.. Test loss: 0.365.. Test Accuracy: 0.868\n",
            "Epoch: 17/30.. Training loss: 0.318.. Test loss: 0.350.. Test Accuracy: 0.877\n",
            "Epoch: 18/30.. Training loss: 0.306.. Test loss: 0.349.. Test Accuracy: 0.880\n",
            "Epoch: 19/30.. Training loss: 0.308.. Test loss: 0.365.. Test Accuracy: 0.877\n",
            "Epoch: 20/30.. Training loss: 0.304.. Test loss: 0.355.. Test Accuracy: 0.876\n",
            "Epoch: 21/30.. Training loss: 0.305.. Test loss: 0.350.. Test Accuracy: 0.878\n",
            "Epoch: 22/30.. Training loss: 0.295.. Test loss: 0.362.. Test Accuracy: 0.871\n",
            "Epoch: 23/30.. Training loss: 0.301.. Test loss: 0.353.. Test Accuracy: 0.877\n",
            "Epoch: 24/30.. Training loss: 0.293.. Test loss: 0.352.. Test Accuracy: 0.878\n",
            "Epoch: 25/30.. Training loss: 0.295.. Test loss: 0.356.. Test Accuracy: 0.878\n",
            "Epoch: 26/30.. Training loss: 0.284.. Test loss: 0.346.. Test Accuracy: 0.880\n",
            "Epoch: 27/30.. Training loss: 0.287.. Test loss: 0.351.. Test Accuracy: 0.884\n",
            "Epoch: 28/30.. Training loss: 0.288.. Test loss: 0.348.. Test Accuracy: 0.882\n",
            "Epoch: 29/30.. Training loss: 0.282.. Test loss: 0.348.. Test Accuracy: 0.883\n",
            "Epoch: 30/30.. Training loss: 0.280.. Test loss: 0.355.. Test Accuracy: 0.878\n"
          ]
        }
      ],
      "source": [
        "drop_results = run_model(drop_model, drop_optimizer, 30)"
      ]
    },
    {
      "cell_type": "code",
      "execution_count": null,
      "metadata": {
        "colab": {
          "base_uri": "https://localhost:8080/",
          "height": 283
        },
        "id": "sW0NtwzhKFOv",
        "outputId": "ea33ecd7-5af2-47ba-ea22-4821a04f8c2c"
      },
      "outputs": [
        {
          "data": {
            "text/plain": [
              "<matplotlib.legend.Legend at 0x7f7a5ebad310>"
            ]
          },
          "execution_count": 33,
          "metadata": {},
          "output_type": "execute_result"
        },
        {
          "data": {
            "image/png": "[encoded data removed]",
            "text/plain": [
              "<Figure size 432x288 with 1 Axes>"
            ]
          },
          "metadata": {},
          "output_type": "display_data"
        }
      ],
      "source": [
        "plt.plot(drop_results[0], label = \"Training loss with dropout\")\n",
        "plt.plot(drop_results[1], label = \"Validation loss with dropout\")\n",
        "plt.plot(results[0], label = \"Training loss without dropout\")\n",
        "plt.plot(results[1], label = \"Validation loss without dropout\")\n",
        "plt.legend(frameon = False)"
      ]
    },
    {
      "cell_type": "markdown",
      "metadata": {
        "id": "NaWhsCkhLlwz"
      },
      "source": [
        "Clearly, dropout technique helped us to prevent model from memorising training dataset."
      ]
    },
    {
      "cell_type": "markdown",
      "metadata": {
        "id": "gke1QO2OLy7w"
      },
      "source": [
        "## Test 4"
      ]
    },
    {
      "cell_type": "markdown",
      "metadata": {
        "id": "xbWfLlAYL_nv"
      },
      "source": [
        "In this test, we will use early stoping criteria and see it's effect"
      ]
    },
    {
      "cell_type": "markdown",
      "metadata": {
        "id": "if5C4cQFMMiT"
      },
      "source": [
        "Early stopper object"
      ]
    },
    {
      "cell_type": "code",
      "execution_count": null,
      "metadata": {
        "id": "i9oOfc1_Khgg"
      },
      "outputs": [],
      "source": [
        "class EarlyStopper:\n",
        "  def __init__(self, patience=1, min_delta=0):\n",
        "      self.patience = patience\n",
        "      self.min_delta = min_delta\n",
        "      self.counter = 0\n",
        "      self.min_validation_loss = np.inf\n",
        "\n",
        "  def early_stop(self, validation_loss):\n",
        "      if validation_loss < self.min_validation_loss:\n",
        "          self.min_validation_loss = validation_loss\n",
        "          self.counter = 0\n",
        "      elif validation_loss > (self.min_validation_loss + self.min_delta):\n",
        "          self.counter += 1\n",
        "          if self.counter >= self.patience:\n",
        "              return True\n",
        "      return False"
      ]
    },
    {
      "cell_type": "markdown",
      "metadata": {
        "id": "uqt22koiMdEo"
      },
      "source": [
        "Customised run_model function:"
      ]
    },
    {
      "cell_type": "code",
      "execution_count": null,
      "metadata": {
        "id": "syNYHQRFMVXP"
      },
      "outputs": [],
      "source": [
        "def run_model_early_stop(model, optimizer, epochs):\n",
        "  train_losses, test_losses = [], []\n",
        "\n",
        "  early_stopper = EarlyStopper(3, 10)\n",
        "  for e in range(epochs):\n",
        "    running_loss = 0\n",
        "    for images, labels in trainloader:\n",
        "      images = images.view(images.shape[0], -1)\n",
        "      \n",
        "      optimizer.zero_grad()\n",
        "      \n",
        "      output = model.forward(images)\n",
        "      loss = criterion(output, labels)\n",
        "      loss.backward()\n",
        "      optimizer.step()\n",
        "      \n",
        "      running_loss += loss.item()\n",
        "    else:\n",
        "      test_loss = 0\n",
        "      accuracy = 0\n",
        "      \n",
        "      with torch.no_grad():\n",
        "        model.eval()\n",
        "        \n",
        "        for images, labels in testloader:\n",
        "          images = images.view(images.shape[0], -1)\n",
        "          log_ps = model(images)\n",
        "          test_loss += criterion(log_ps, labels)\n",
        "          \n",
        "          ps = torch.exp(log_ps)\n",
        "          top_p, top_class = ps.topk(1, dim = 1)\n",
        "          equals = top_class == labels.view(*top_class.shape)\n",
        "          accuracy += torch.mean(equals.type(torch.FloatTensor))\n",
        "      \n",
        "      model.train()\n",
        "      train_losses.append(running_loss/len(trainloader))\n",
        "      test_losses.append(test_loss/len(testloader))\n",
        "      if early_stopper.early_stop(test_loss):\n",
        "        print(\"Early stop has been triggered!\")\n",
        "        break\n",
        "\n",
        "      \n",
        "      print(\"Epoch: {}/{}..\".format(e+1, epochs),\n",
        "            \"Training loss: {:.3f}..\".format(running_loss/len(trainloader)),\n",
        "            \"Test loss: {:.3f}..\".format(test_loss/len(testloader)),\n",
        "            \"Test Accuracy: {:.3f}\".format(accuracy/len(testloader)))\n",
        "  return [train_losses, test_losses]"
      ]
    },
    {
      "cell_type": "code",
      "execution_count": null,
      "metadata": {
        "colab": {
          "base_uri": "https://localhost:8080/"
        },
        "id": "vZCKjI4CNd2_",
        "outputId": "45ef6ace-6509-4239-e984-1b37cb0577df"
      },
      "outputs": [
        {
          "name": "stdout",
          "output_type": "stream",
          "text": [
            "Epoch: 1/30.. Training loss: 0.507.. Test loss: 0.453.. Test Accuracy: 0.833\n",
            "Epoch: 2/30.. Training loss: 0.384.. Test loss: 0.400.. Test Accuracy: 0.857\n",
            "Epoch: 3/30.. Training loss: 0.344.. Test loss: 0.376.. Test Accuracy: 0.864\n",
            "Epoch: 4/30.. Training loss: 0.323.. Test loss: 0.368.. Test Accuracy: 0.868\n",
            "Epoch: 5/30.. Training loss: 0.306.. Test loss: 0.358.. Test Accuracy: 0.870\n",
            "Epoch: 6/30.. Training loss: 0.290.. Test loss: 0.379.. Test Accuracy: 0.864\n",
            "Epoch: 7/30.. Training loss: 0.277.. Test loss: 0.348.. Test Accuracy: 0.873\n",
            "Epoch: 8/30.. Training loss: 0.265.. Test loss: 0.346.. Test Accuracy: 0.877\n",
            "Epoch: 9/30.. Training loss: 0.255.. Test loss: 0.357.. Test Accuracy: 0.877\n",
            "Epoch: 10/30.. Training loss: 0.246.. Test loss: 0.357.. Test Accuracy: 0.877\n",
            "Epoch: 11/30.. Training loss: 0.236.. Test loss: 0.356.. Test Accuracy: 0.885\n",
            "Epoch: 12/30.. Training loss: 0.234.. Test loss: 0.350.. Test Accuracy: 0.882\n",
            "Epoch: 13/30.. Training loss: 0.222.. Test loss: 0.378.. Test Accuracy: 0.885\n",
            "Epoch: 14/30.. Training loss: 0.218.. Test loss: 0.390.. Test Accuracy: 0.878\n",
            "Epoch: 15/30.. Training loss: 0.209.. Test loss: 0.360.. Test Accuracy: 0.887\n",
            "Epoch: 16/30.. Training loss: 0.207.. Test loss: 0.405.. Test Accuracy: 0.871\n",
            "Epoch: 17/30.. Training loss: 0.197.. Test loss: 0.365.. Test Accuracy: 0.884\n",
            "Epoch: 18/30.. Training loss: 0.195.. Test loss: 0.368.. Test Accuracy: 0.885\n",
            "Epoch: 19/30.. Training loss: 0.188.. Test loss: 0.388.. Test Accuracy: 0.884\n",
            "Epoch: 20/30.. Training loss: 0.182.. Test loss: 0.390.. Test Accuracy: 0.881\n",
            "Epoch: 21/30.. Training loss: 0.175.. Test loss: 0.387.. Test Accuracy: 0.889\n",
            "Epoch: 22/30.. Training loss: 0.176.. Test loss: 0.379.. Test Accuracy: 0.886\n",
            "Epoch: 23/30.. Training loss: 0.169.. Test loss: 0.408.. Test Accuracy: 0.879\n",
            "Epoch: 24/30.. Training loss: 0.167.. Test loss: 0.410.. Test Accuracy: 0.887\n",
            "Epoch: 25/30.. Training loss: 0.163.. Test loss: 0.399.. Test Accuracy: 0.888\n",
            "Epoch: 26/30.. Training loss: 0.156.. Test loss: 0.441.. Test Accuracy: 0.880\n",
            "Early stop has been triggered!\n"
          ]
        }
      ],
      "source": [
        "early_results = run_model_early_stop(base_model, optimizer, 30)"
      ]
    },
    {
      "cell_type": "code",
      "execution_count": null,
      "metadata": {
        "colab": {
          "base_uri": "https://localhost:8080/",
          "height": 283
        },
        "id": "0vxXnVshNl26",
        "outputId": "458f9edc-9052-4bb6-fae1-d407a66cd07d"
      },
      "outputs": [
        {
          "data": {
            "text/plain": [
              "<matplotlib.legend.Legend at 0x7f7a5e9b1b90>"
            ]
          },
          "execution_count": 40,
          "metadata": {},
          "output_type": "execute_result"
        },
        {
          "data": {
            "image/png": "[encoded data removed]",
            "text/plain": [
              "<Figure size 432x288 with 1 Axes>"
            ]
          },
          "metadata": {},
          "output_type": "display_data"
        }
      ],
      "source": [
        "plt.plot(results[0], label = \"Training loss without early stopping\")\n",
        "plt.plot(results[1], label = \"Validation loss without early stopping\")\n",
        "plt.plot(early_results[0], label = \"Training loss with early stopping\")\n",
        "plt.plot(early_results[1], label = \"Validation loss with early stopping\")\n",
        "plt.legend(frameon = False)"
      ]
    },
    {
      "cell_type": "markdown",
      "metadata": {
        "id": "iceSQCRAPlQV"
      },
      "source": [
        "Early stopping helped us to prevent model from overlearning and overfitting on data and reduce number of epochs that we need to feed forward and do back-propagation "
      ]
    },
    {
      "cell_type": "markdown",
      "metadata": {
        "id": "Tk0tfwVjQWfo"
      },
      "source": [
        "## Test 5"
      ]
    },
    {
      "cell_type": "markdown",
      "metadata": {
        "id": "wuqpXSZNQZLg"
      },
      "source": [
        "In this test we will trying to do batch normalization and see the results on training."
      ]
    },
    {
      "cell_type": "markdown",
      "metadata": {
        "id": "m6etQ17GQeUZ"
      },
      "source": [
        "First lets see what is batch normalization. Batch Normalization is a method used to make training of artificial neural networks faster and more stable through normalization of the layers' inputs by re-centering and re-scaling"
      ]
    },
    {
      "cell_type": "code",
      "execution_count": null,
      "metadata": {
        "id": "MwDiPimnPiqv"
      },
      "outputs": [],
      "source": [
        "batch_model = nn.Sequential(nn.Linear(784, 256),\n",
        "                           nn.ReLU(),\n",
        "                           nn.Dropout(0.2),\n",
        "                           nn.BatchNorm1d(256),\n",
        "                           nn.Linear(256, 128),\n",
        "                           nn.ReLU(),\n",
        "                           nn.Dropout(0.2),\n",
        "                           nn.BatchNorm1d(128),\n",
        "                           nn.Linear(128, 64),\n",
        "                           nn.ReLU(),\n",
        "                           nn.Dropout(0.2),\n",
        "                           nn.BatchNorm1d(64),\n",
        "                           nn.Linear(64, 10),\n",
        "                           nn.LogSoftmax(dim=1)\n",
        "                           )\n",
        "batch_optimizer = optim.Adam(batch_model.parameters(), lr= 0.002)"
      ]
    },
    {
      "cell_type": "code",
      "execution_count": null,
      "metadata": {
        "colab": {
          "base_uri": "https://localhost:8080/"
        },
        "id": "c82CSB8sRQUy",
        "outputId": "3ee2571c-deaa-4031-fae3-cd49b2d97fff"
      },
      "outputs": [
        {
          "name": "stdout",
          "output_type": "stream",
          "text": [
            "Epoch: 1/30.. Training loss: 0.612.. Test loss: 0.569.. Test Accuracy: 0.820\n",
            "Epoch: 2/30.. Training loss: 0.503.. Test loss: 0.619.. Test Accuracy: 0.845\n",
            "Epoch: 3/30.. Training loss: 0.473.. Test loss: 0.506.. Test Accuracy: 0.847\n",
            "Epoch: 4/30.. Training loss: 0.446.. Test loss: 0.457.. Test Accuracy: 0.852\n",
            "Epoch: 5/30.. Training loss: 0.435.. Test loss: 0.417.. Test Accuracy: 0.858\n",
            "Epoch: 6/30.. Training loss: 0.417.. Test loss: 0.463.. Test Accuracy: 0.861\n",
            "Epoch: 7/30.. Training loss: 0.406.. Test loss: 0.450.. Test Accuracy: 0.860\n",
            "Epoch: 8/30.. Training loss: 0.394.. Test loss: 0.472.. Test Accuracy: 0.866\n",
            "Epoch: 9/30.. Training loss: 0.384.. Test loss: 0.410.. Test Accuracy: 0.865\n",
            "Epoch: 10/30.. Training loss: 0.375.. Test loss: 0.515.. Test Accuracy: 0.865\n",
            "Epoch: 11/30.. Training loss: 0.370.. Test loss: 0.580.. Test Accuracy: 0.865\n",
            "Epoch: 12/30.. Training loss: 0.367.. Test loss: 0.388.. Test Accuracy: 0.869\n",
            "Epoch: 13/30.. Training loss: 0.365.. Test loss: 0.649.. Test Accuracy: 0.868\n",
            "Epoch: 14/30.. Training loss: 0.366.. Test loss: 0.545.. Test Accuracy: 0.868\n",
            "Epoch: 15/30.. Training loss: 0.360.. Test loss: 0.574.. Test Accuracy: 0.873\n",
            "Epoch: 16/30.. Training loss: 0.353.. Test loss: 0.530.. Test Accuracy: 0.870\n",
            "Epoch: 17/30.. Training loss: 0.346.. Test loss: 0.445.. Test Accuracy: 0.870\n",
            "Epoch: 18/30.. Training loss: 0.343.. Test loss: 0.570.. Test Accuracy: 0.875\n",
            "Epoch: 19/30.. Training loss: 0.339.. Test loss: 0.480.. Test Accuracy: 0.875\n",
            "Epoch: 20/30.. Training loss: 0.340.. Test loss: 0.469.. Test Accuracy: 0.877\n",
            "Epoch: 21/30.. Training loss: 0.337.. Test loss: 0.423.. Test Accuracy: 0.873\n",
            "Epoch: 22/30.. Training loss: 0.333.. Test loss: 0.371.. Test Accuracy: 0.877\n",
            "Epoch: 23/30.. Training loss: 0.332.. Test loss: 0.370.. Test Accuracy: 0.874\n",
            "Epoch: 24/30.. Training loss: 0.333.. Test loss: 0.389.. Test Accuracy: 0.873\n",
            "Epoch: 25/30.. Training loss: 0.331.. Test loss: 0.382.. Test Accuracy: 0.874\n",
            "Epoch: 26/30.. Training loss: 0.327.. Test loss: 0.384.. Test Accuracy: 0.876\n",
            "Epoch: 27/30.. Training loss: 0.325.. Test loss: 0.343.. Test Accuracy: 0.880\n",
            "Epoch: 28/30.. Training loss: 0.318.. Test loss: 0.356.. Test Accuracy: 0.879\n",
            "Epoch: 29/30.. Training loss: 0.316.. Test loss: 0.336.. Test Accuracy: 0.882\n",
            "Epoch: 30/30.. Training loss: 0.315.. Test loss: 0.406.. Test Accuracy: 0.881\n"
          ]
        }
      ],
      "source": [
        "batch_results = run_model(batch_model, batch_optimizer, 30)"
      ]
    },
    {
      "cell_type": "code",
      "execution_count": null,
      "metadata": {
        "colab": {
          "base_uri": "https://localhost:8080/",
          "height": 283
        },
        "id": "o_ndRBDFRdyC",
        "outputId": "e2f75403-6f46-4638-cefe-b274104c90d3"
      },
      "outputs": [
        {
          "data": {
            "text/plain": [
              "<matplotlib.legend.Legend at 0x7f7a5ea27310>"
            ]
          },
          "execution_count": 44,
          "metadata": {},
          "output_type": "execute_result"
        },
        {
          "data": {
            "image/png": "[encoded data removed]",
            "text/plain": [
              "<Figure size 432x288 with 1 Axes>"
            ]
          },
          "metadata": {},
          "output_type": "display_data"
        }
      ],
      "source": [
        "plt.plot(results[0], label = \"Training loss without batch normalization\")\n",
        "plt.plot(results[1], label = \"Validation loss without batch normalization\")\n",
        "plt.plot(batch_results[0], label = \"Training loss with batch normalization\")\n",
        "plt.plot(batch_results[1], label = \"Validation loss with batch normalization\")\n",
        "plt.legend(frameon = False)"
      ]
    },
    {
      "cell_type": "markdown",
      "metadata": {
        "id": "hvuWFpy1R9eE"
      },
      "source": [
        "Results of using batch normalization shows that using batch normalization will help to smooth data and increase accuracy a little bit."
      ]
    },
    {
      "cell_type": "markdown",
      "metadata": {
        "id": "Hlfz9MTKUWSZ"
      },
      "source": [
        "## Test 6"
      ]
    },
    {
      "cell_type": "markdown",
      "metadata": {
        "id": "CxPCwI4mUZ2P"
      },
      "source": [
        "In this test, we will test $L_1$ and $L_2$ regularization"
      ]
    },
    {
      "cell_type": "markdown",
      "metadata": {
        "id": "kkLdAS4kUnIf"
      },
      "source": [
        "New run_model function for $L_2$ regularization:"
      ]
    },
    {
      "cell_type": "code",
      "execution_count": 11,
      "metadata": {
        "id": "GsxnLPwjR5zI"
      },
      "outputs": [],
      "source": [
        "def run_model_L2(model, optimizer, epochs, alpha):\n",
        "  train_losses, test_losses = [], []\n",
        "  for e in range(epochs):\n",
        "    running_loss = 0\n",
        "    for images, labels in trainloader:\n",
        "      images = images.view(images.shape[0], -1)\n",
        "      \n",
        "      optimizer.zero_grad()\n",
        "      l2_reg = None\n",
        "      for i in model.named_parameters():\n",
        "        if l2_reg is None:\n",
        "          l2_reg = torch.sum(i[1].norm(2) ** 2)\n",
        "        else:\n",
        "          l2_reg += torch.sum(i[1].norm(2) ** 2)\n",
        "      output = model.forward(images)\n",
        "      loss = criterion(output, labels)\n",
        "      loss += alpha * l2_reg\n",
        "      loss.backward()\n",
        "      optimizer.step()\n",
        "      \n",
        "      running_loss += loss.item()\n",
        "    else:\n",
        "      test_loss = 0\n",
        "      accuracy = 0\n",
        "      \n",
        "      with torch.no_grad():\n",
        "        model.eval()\n",
        "        \n",
        "        for images, labels in testloader:\n",
        "          images = images.view(images.shape[0], -1)\n",
        "          log_ps = model(images)\n",
        "          test_loss += criterion(log_ps, labels)\n",
        "          \n",
        "          ps = torch.exp(log_ps)\n",
        "          top_p, top_class = ps.topk(1, dim = 1)\n",
        "          equals = top_class == labels.view(*top_class.shape)\n",
        "          accuracy += torch.mean(equals.type(torch.FloatTensor))\n",
        "      \n",
        "      model.train()\n",
        "      train_losses.append(running_loss/len(trainloader))\n",
        "      test_losses.append(test_loss/len(testloader))\n",
        "      \n",
        "      print(\"Epoch: {}/{}..\".format(e+1, epochs),\n",
        "            \"Training loss: {:.3f}..\".format(running_loss/len(trainloader)),\n",
        "            \"Test loss: {:.3f}..\".format(test_loss/len(testloader)),\n",
        "            \"Test Accuracy: {:.3f}\".format(accuracy/len(testloader)))\n",
        "  return [train_losses, test_losses]"
      ]
    },
    {
      "cell_type": "code",
      "execution_count": null,
      "metadata": {
        "id": "Yp9B6NytVLGE"
      },
      "outputs": [],
      "source": [
        "def run_model_L1(model, optimizer, epochs, alpha):\n",
        "  train_losses, test_losses = [], []\n",
        "  for e in range(epochs):\n",
        "    running_loss = 0\n",
        "    for images, labels in trainloader:\n",
        "      images = images.view(images.shape[0], -1)\n",
        "      \n",
        "      optimizer.zero_grad()\n",
        "      \n",
        "      l1_reg = None\n",
        "      for i in model.named_parameters():\n",
        "        if l1_reg is None:\n",
        "          l1_reg = torch.sum(i[1].__abs__())\n",
        "        else:\n",
        "          l1_reg += torch.sum(i[1].__abs__())\n",
        "\n",
        "      output = model.forward(images)\n",
        "      loss = criterion(output, labels)\n",
        "      loss = loss + alpha * l1_reg\n",
        "      loss.backward()\n",
        "      optimizer.step()\n",
        "      \n",
        "      running_loss += loss.item()\n",
        "    else:\n",
        "      test_loss = 0\n",
        "      accuracy = 0\n",
        "      \n",
        "      with torch.no_grad():\n",
        "        model.eval()\n",
        "        \n",
        "        for images, labels in testloader:\n",
        "          images = images.view(images.shape[0], -1)\n",
        "          log_ps = model(images)\n",
        "          test_loss += criterion(log_ps, labels)\n",
        "          \n",
        "          ps = torch.exp(log_ps)\n",
        "          top_p, top_class = ps.topk(1, dim = 1)\n",
        "          equals = top_class == labels.view(*top_class.shape)\n",
        "          accuracy += torch.mean(equals.type(torch.FloatTensor))\n",
        "      \n",
        "      model.train()\n",
        "      train_losses.append(running_loss/len(trainloader))\n",
        "      test_losses.append(test_loss/len(testloader))\n",
        "      \n",
        "      print(\"Epoch: {}/{}..\".format(e+1, epochs),\n",
        "            \"Training loss: {:.3f}..\".format(running_loss/len(trainloader)),\n",
        "            \"Test loss: {:.3f}..\".format(test_loss/len(testloader)),\n",
        "            \"Test Accuracy: {:.3f}\".format(accuracy/len(testloader)))\n",
        "  return [train_losses, test_losses]"
      ]
    },
    {
      "cell_type": "code",
      "execution_count": null,
      "metadata": {
        "colab": {
          "base_uri": "https://localhost:8080/"
        },
        "id": "ASR7-rwlVPd5",
        "outputId": "0f3cc69f-4621-4fe8-f1fa-ba16b42e6afe"
      },
      "outputs": [
        {
          "name": "stdout",
          "output_type": "stream",
          "text": [
            "Epoch: 1/30.. Training loss: 0.518.. Test loss: 0.455.. Test Accuracy: 0.833\n",
            "Epoch: 2/30.. Training loss: 0.393.. Test loss: 0.394.. Test Accuracy: 0.860\n",
            "Epoch: 3/30.. Training loss: 0.357.. Test loss: 0.377.. Test Accuracy: 0.863\n",
            "Epoch: 4/30.. Training loss: 0.337.. Test loss: 0.406.. Test Accuracy: 0.863\n",
            "Epoch: 5/30.. Training loss: 0.324.. Test loss: 0.357.. Test Accuracy: 0.872\n",
            "Epoch: 6/30.. Training loss: 0.313.. Test loss: 0.386.. Test Accuracy: 0.870\n",
            "Epoch: 7/30.. Training loss: 0.302.. Test loss: 0.359.. Test Accuracy: 0.873\n",
            "Epoch: 8/30.. Training loss: 0.293.. Test loss: 0.367.. Test Accuracy: 0.873\n",
            "Epoch: 9/30.. Training loss: 0.286.. Test loss: 0.378.. Test Accuracy: 0.878\n",
            "Epoch: 10/30.. Training loss: 0.281.. Test loss: 0.377.. Test Accuracy: 0.873\n",
            "Epoch: 11/30.. Training loss: 0.276.. Test loss: 0.364.. Test Accuracy: 0.875\n",
            "Epoch: 12/30.. Training loss: 0.273.. Test loss: 0.348.. Test Accuracy: 0.878\n",
            "Epoch: 13/30.. Training loss: 0.267.. Test loss: 0.367.. Test Accuracy: 0.873\n",
            "Epoch: 14/30.. Training loss: 0.261.. Test loss: 0.352.. Test Accuracy: 0.881\n",
            "Epoch: 15/30.. Training loss: 0.257.. Test loss: 0.375.. Test Accuracy: 0.876\n",
            "Epoch: 16/30.. Training loss: 0.255.. Test loss: 0.341.. Test Accuracy: 0.887\n",
            "Epoch: 17/30.. Training loss: 0.249.. Test loss: 0.366.. Test Accuracy: 0.882\n",
            "Epoch: 18/30.. Training loss: 0.250.. Test loss: 0.362.. Test Accuracy: 0.883\n",
            "Epoch: 19/30.. Training loss: 0.246.. Test loss: 0.358.. Test Accuracy: 0.880\n",
            "Epoch: 20/30.. Training loss: 0.243.. Test loss: 0.354.. Test Accuracy: 0.883\n",
            "Epoch: 21/30.. Training loss: 0.236.. Test loss: 0.360.. Test Accuracy: 0.885\n",
            "Epoch: 22/30.. Training loss: 0.235.. Test loss: 0.373.. Test Accuracy: 0.885\n",
            "Epoch: 23/30.. Training loss: 0.237.. Test loss: 0.378.. Test Accuracy: 0.877\n",
            "Epoch: 24/30.. Training loss: 0.232.. Test loss: 0.380.. Test Accuracy: 0.880\n",
            "Epoch: 25/30.. Training loss: 0.234.. Test loss: 0.422.. Test Accuracy: 0.875\n",
            "Epoch: 26/30.. Training loss: 0.231.. Test loss: 0.394.. Test Accuracy: 0.877\n",
            "Epoch: 27/30.. Training loss: 0.228.. Test loss: 0.378.. Test Accuracy: 0.886\n",
            "Epoch: 28/30.. Training loss: 0.223.. Test loss: 0.376.. Test Accuracy: 0.883\n",
            "Epoch: 29/30.. Training loss: 0.224.. Test loss: 0.390.. Test Accuracy: 0.882\n",
            "Epoch: 30/30.. Training loss: 0.226.. Test loss: 0.374.. Test Accuracy: 0.888\n"
          ]
        }
      ],
      "source": [
        "l2_results = run_model_L2(base_model, optimizer, 30, 0.0001)"
      ]
    },
    {
      "cell_type": "code",
      "execution_count": null,
      "metadata": {
        "id": "g1O7on-WsPuo"
      },
      "outputs": [],
      "source": [
        "base_model2 = nn.Sequential(nn.Linear(784, 256),\n",
        "                           nn.ReLU(),\n",
        "                           nn.Linear(256, 128),\n",
        "                           nn.ReLU(),\n",
        "                           nn.Linear(128, 64),\n",
        "                           nn.ReLU(),\n",
        "                           nn.Linear(64, 10),\n",
        "                           nn.LogSoftmax(dim=1)\n",
        "                           )\n",
        "criterion = nn.NLLLoss()\n",
        "optimizer2 = optim.Adam(base_model2.parameters(), lr= 0.002)"
      ]
    },
    {
      "cell_type": "code",
      "execution_count": null,
      "metadata": {
        "colab": {
          "base_uri": "https://localhost:8080/"
        },
        "id": "W0WAKai8VdFe",
        "outputId": "776ee760-8561-4c49-bd64-fd37f3955b11"
      },
      "outputs": [
        {
          "name": "stdout",
          "output_type": "stream",
          "text": [
            "Epoch: 1/30.. Training loss: 0.573.. Test loss: 0.438.. Test Accuracy: 0.839\n",
            "Epoch: 2/30.. Training loss: 0.462.. Test loss: 0.404.. Test Accuracy: 0.857\n",
            "Epoch: 3/30.. Training loss: 0.432.. Test loss: 0.381.. Test Accuracy: 0.862\n",
            "Epoch: 4/30.. Training loss: 0.411.. Test loss: 0.368.. Test Accuracy: 0.867\n",
            "Epoch: 5/30.. Training loss: 0.392.. Test loss: 0.386.. Test Accuracy: 0.859\n",
            "Epoch: 6/30.. Training loss: 0.389.. Test loss: 0.383.. Test Accuracy: 0.861\n",
            "Epoch: 7/30.. Training loss: 0.374.. Test loss: 0.369.. Test Accuracy: 0.869\n",
            "Epoch: 8/30.. Training loss: 0.372.. Test loss: 0.349.. Test Accuracy: 0.871\n",
            "Epoch: 9/30.. Training loss: 0.361.. Test loss: 0.361.. Test Accuracy: 0.869\n",
            "Epoch: 10/30.. Training loss: 0.358.. Test loss: 0.363.. Test Accuracy: 0.876\n",
            "Epoch: 11/30.. Training loss: 0.351.. Test loss: 0.353.. Test Accuracy: 0.877\n",
            "Epoch: 12/30.. Training loss: 0.347.. Test loss: 0.368.. Test Accuracy: 0.868\n",
            "Epoch: 13/30.. Training loss: 0.346.. Test loss: 0.351.. Test Accuracy: 0.880\n",
            "Epoch: 14/30.. Training loss: 0.341.. Test loss: 0.358.. Test Accuracy: 0.875\n",
            "Epoch: 15/30.. Training loss: 0.338.. Test loss: 0.372.. Test Accuracy: 0.877\n",
            "Epoch: 16/30.. Training loss: 0.332.. Test loss: 0.346.. Test Accuracy: 0.880\n",
            "Epoch: 17/30.. Training loss: 0.328.. Test loss: 0.373.. Test Accuracy: 0.873\n",
            "Epoch: 18/30.. Training loss: 0.330.. Test loss: 0.359.. Test Accuracy: 0.877\n",
            "Epoch: 19/30.. Training loss: 0.324.. Test loss: 0.358.. Test Accuracy: 0.879\n",
            "Epoch: 20/30.. Training loss: 0.328.. Test loss: 0.343.. Test Accuracy: 0.884\n",
            "Epoch: 21/30.. Training loss: 0.317.. Test loss: 0.332.. Test Accuracy: 0.886\n",
            "Epoch: 22/30.. Training loss: 0.321.. Test loss: 0.362.. Test Accuracy: 0.880\n",
            "Epoch: 23/30.. Training loss: 0.319.. Test loss: 0.351.. Test Accuracy: 0.882\n",
            "Epoch: 24/30.. Training loss: 0.313.. Test loss: 0.360.. Test Accuracy: 0.877\n",
            "Epoch: 25/30.. Training loss: 0.316.. Test loss: 0.350.. Test Accuracy: 0.887\n",
            "Epoch: 26/30.. Training loss: 0.311.. Test loss: 0.363.. Test Accuracy: 0.884\n",
            "Epoch: 27/30.. Training loss: 0.309.. Test loss: 0.383.. Test Accuracy: 0.871\n",
            "Epoch: 28/30.. Training loss: 0.310.. Test loss: 0.357.. Test Accuracy: 0.883\n",
            "Epoch: 29/30.. Training loss: 0.307.. Test loss: 0.377.. Test Accuracy: 0.880\n",
            "Epoch: 30/30.. Training loss: 0.308.. Test loss: 0.363.. Test Accuracy: 0.887\n"
          ]
        }
      ],
      "source": [
        "l1_results = run_model_L1(base_model2, optimizer2, 30, 0.0001)"
      ]
    },
    {
      "cell_type": "code",
      "execution_count": null,
      "metadata": {
        "colab": {
          "base_uri": "https://localhost:8080/",
          "height": 283
        },
        "id": "CUds5k2UD-mQ",
        "outputId": "6816bfdd-cfe8-4750-a152-5c8db60f33b0"
      },
      "outputs": [
        {
          "data": {
            "text/plain": [
              "<matplotlib.legend.Legend at 0x7f60335ddc50>"
            ]
          },
          "execution_count": 90,
          "metadata": {},
          "output_type": "execute_result"
        },
        {
          "data": {
            "image/png": "[encoded data removed]",
            "text/plain": [
              "<Figure size 432x288 with 1 Axes>"
            ]
          },
          "metadata": {},
          "output_type": "display_data"
        }
      ],
      "source": [
        "plt.plot(l1_results[0], label = \"Training loss L1\")\n",
        "plt.plot(l1_results[1], label = \"Validation loss L1\")\n",
        "plt.plot(l2_results[0], label = \"Training loss L2\")\n",
        "plt.plot(l2_results[1], label = \"Validation loss L2\")\n",
        "plt.legend(frameon = False)"
      ]
    },
    {
      "cell_type": "markdown",
      "metadata": {
        "id": "GNaHqkRWM4TU"
      },
      "source": [
        "Now let's test $L_2$ regularization for different values for $\\alpha$"
      ]
    },
    {
      "cell_type": "code",
      "execution_count": 12,
      "metadata": {
        "id": "SoVbdybHMwkl"
      },
      "outputs": [],
      "source": [
        "base_model_l2 = nn.Sequential(nn.Linear(784, 256),\n",
        "                           nn.ReLU(),\n",
        "                           nn.Linear(256, 128),\n",
        "                           nn.ReLU(),\n",
        "                           nn.Linear(128, 64),\n",
        "                           nn.ReLU(),\n",
        "                           nn.Linear(64, 10),\n",
        "                           nn.LogSoftmax(dim=1)\n",
        "                           )\n",
        "criterion = nn.NLLLoss()\n",
        "optimizer_l2 = optim.Adam(base_model_l2.parameters(), lr= 0.002)"
      ]
    },
    {
      "cell_type": "code",
      "execution_count": 13,
      "metadata": {
        "colab": {
          "base_uri": "https://localhost:8080/"
        },
        "id": "qahOWw_INMXb",
        "outputId": "8f44c577-6539-4923-c889-17a222aae4cd"
      },
      "outputs": [
        {
          "name": "stdout",
          "output_type": "stream",
          "text": [
            "Running on alpha= 0.001\n",
            "Epoch: 1/30.. Training loss: 0.699.. Test loss: 0.503.. Test Accuracy: 0.812\n",
            "Epoch: 2/30.. Training loss: 0.576.. Test loss: 0.449.. Test Accuracy: 0.834\n",
            "Epoch: 3/30.. Training loss: 0.538.. Test loss: 0.485.. Test Accuracy: 0.821\n",
            "Epoch: 4/30.. Training loss: 0.521.. Test loss: 0.436.. Test Accuracy: 0.842\n",
            "Epoch: 5/30.. Training loss: 0.509.. Test loss: 0.457.. Test Accuracy: 0.833\n",
            "Epoch: 6/30.. Training loss: 0.508.. Test loss: 0.413.. Test Accuracy: 0.856\n",
            "Epoch: 7/30.. Training loss: 0.503.. Test loss: 0.414.. Test Accuracy: 0.848\n",
            "Epoch: 8/30.. Training loss: 0.492.. Test loss: 0.436.. Test Accuracy: 0.840\n",
            "Epoch: 9/30.. Training loss: 0.493.. Test loss: 0.392.. Test Accuracy: 0.858\n",
            "Epoch: 10/30.. Training loss: 0.489.. Test loss: 0.452.. Test Accuracy: 0.838\n",
            "Epoch: 11/30.. Training loss: 0.487.. Test loss: 0.418.. Test Accuracy: 0.849\n",
            "Epoch: 12/30.. Training loss: 0.483.. Test loss: 0.406.. Test Accuracy: 0.852\n",
            "Epoch: 13/30.. Training loss: 0.483.. Test loss: 0.398.. Test Accuracy: 0.855\n",
            "Epoch: 14/30.. Training loss: 0.481.. Test loss: 0.394.. Test Accuracy: 0.856\n",
            "Epoch: 15/30.. Training loss: 0.477.. Test loss: 0.401.. Test Accuracy: 0.855\n",
            "Epoch: 16/30.. Training loss: 0.476.. Test loss: 0.397.. Test Accuracy: 0.854\n",
            "Epoch: 17/30.. Training loss: 0.482.. Test loss: 0.393.. Test Accuracy: 0.858\n",
            "Epoch: 18/30.. Training loss: 0.476.. Test loss: 0.414.. Test Accuracy: 0.846\n",
            "Epoch: 19/30.. Training loss: 0.479.. Test loss: 0.399.. Test Accuracy: 0.855\n",
            "Epoch: 20/30.. Training loss: 0.480.. Test loss: 0.409.. Test Accuracy: 0.848\n",
            "Epoch: 21/30.. Training loss: 0.475.. Test loss: 0.402.. Test Accuracy: 0.852\n",
            "Epoch: 22/30.. Training loss: 0.476.. Test loss: 0.431.. Test Accuracy: 0.838\n",
            "Epoch: 23/30.. Training loss: 0.477.. Test loss: 0.401.. Test Accuracy: 0.854\n",
            "Epoch: 24/30.. Training loss: 0.476.. Test loss: 0.388.. Test Accuracy: 0.860\n",
            "Epoch: 25/30.. Training loss: 0.473.. Test loss: 0.406.. Test Accuracy: 0.847\n",
            "Epoch: 26/30.. Training loss: 0.470.. Test loss: 0.412.. Test Accuracy: 0.850\n",
            "Epoch: 27/30.. Training loss: 0.477.. Test loss: 0.442.. Test Accuracy: 0.833\n",
            "Epoch: 28/30.. Training loss: 0.471.. Test loss: 0.403.. Test Accuracy: 0.853\n",
            "Epoch: 29/30.. Training loss: 0.474.. Test loss: 0.429.. Test Accuracy: 0.844\n",
            "Epoch: 30/30.. Training loss: 0.472.. Test loss: 0.383.. Test Accuracy: 0.863\n",
            "Running on alpha= 0.0001\n",
            "Epoch: 1/30.. Training loss: 0.364.. Test loss: 0.384.. Test Accuracy: 0.858\n",
            "Epoch: 2/30.. Training loss: 0.353.. Test loss: 0.388.. Test Accuracy: 0.860\n",
            "Epoch: 3/30.. Training loss: 0.348.. Test loss: 0.377.. Test Accuracy: 0.865\n",
            "Epoch: 4/30.. Training loss: 0.343.. Test loss: 0.386.. Test Accuracy: 0.859\n",
            "Epoch: 5/30.. Training loss: 0.341.. Test loss: 0.383.. Test Accuracy: 0.863\n",
            "Epoch: 6/30.. Training loss: 0.341.. Test loss: 0.368.. Test Accuracy: 0.868\n",
            "Epoch: 7/30.. Training loss: 0.341.. Test loss: 0.374.. Test Accuracy: 0.864\n",
            "Epoch: 8/30.. Training loss: 0.338.. Test loss: 0.365.. Test Accuracy: 0.869\n",
            "Epoch: 9/30.. Training loss: 0.335.. Test loss: 0.368.. Test Accuracy: 0.868\n",
            "Epoch: 10/30.. Training loss: 0.333.. Test loss: 0.370.. Test Accuracy: 0.867\n",
            "Epoch: 11/30.. Training loss: 0.334.. Test loss: 0.400.. Test Accuracy: 0.857\n",
            "Epoch: 12/30.. Training loss: 0.333.. Test loss: 0.391.. Test Accuracy: 0.860\n",
            "Epoch: 13/30.. Training loss: 0.333.. Test loss: 0.390.. Test Accuracy: 0.863\n",
            "Epoch: 14/30.. Training loss: 0.331.. Test loss: 0.371.. Test Accuracy: 0.870\n",
            "Epoch: 15/30.. Training loss: 0.329.. Test loss: 0.385.. Test Accuracy: 0.865\n",
            "Epoch: 16/30.. Training loss: 0.329.. Test loss: 0.390.. Test Accuracy: 0.861\n",
            "Epoch: 17/30.. Training loss: 0.326.. Test loss: 0.384.. Test Accuracy: 0.865\n",
            "Epoch: 18/30.. Training loss: 0.327.. Test loss: 0.374.. Test Accuracy: 0.872\n",
            "Epoch: 19/30.. Training loss: 0.329.. Test loss: 0.368.. Test Accuracy: 0.870\n",
            "Epoch: 20/30.. Training loss: 0.327.. Test loss: 0.362.. Test Accuracy: 0.871\n",
            "Epoch: 21/30.. Training loss: 0.327.. Test loss: 0.363.. Test Accuracy: 0.873\n",
            "Epoch: 22/30.. Training loss: 0.326.. Test loss: 0.382.. Test Accuracy: 0.864\n",
            "Epoch: 23/30.. Training loss: 0.325.. Test loss: 0.413.. Test Accuracy: 0.855\n",
            "Epoch: 24/30.. Training loss: 0.325.. Test loss: 0.361.. Test Accuracy: 0.875\n",
            "Epoch: 25/30.. Training loss: 0.323.. Test loss: 0.378.. Test Accuracy: 0.868\n",
            "Epoch: 26/30.. Training loss: 0.324.. Test loss: 0.365.. Test Accuracy: 0.872\n",
            "Epoch: 27/30.. Training loss: 0.323.. Test loss: 0.350.. Test Accuracy: 0.876\n",
            "Epoch: 28/30.. Training loss: 0.324.. Test loss: 0.364.. Test Accuracy: 0.874\n",
            "Epoch: 29/30.. Training loss: 0.322.. Test loss: 0.390.. Test Accuracy: 0.863\n",
            "Epoch: 30/30.. Training loss: 0.321.. Test loss: 0.366.. Test Accuracy: 0.872\n",
            "Running on alpha= 1e-05\n",
            "Epoch: 1/30.. Training loss: 0.274.. Test loss: 0.377.. Test Accuracy: 0.871\n",
            "Epoch: 2/30.. Training loss: 0.268.. Test loss: 0.375.. Test Accuracy: 0.868\n",
            "Epoch: 3/30.. Training loss: 0.269.. Test loss: 0.376.. Test Accuracy: 0.873\n",
            "Epoch: 4/30.. Training loss: 0.266.. Test loss: 0.383.. Test Accuracy: 0.866\n",
            "Epoch: 5/30.. Training loss: 0.265.. Test loss: 0.368.. Test Accuracy: 0.877\n",
            "Epoch: 6/30.. Training loss: 0.263.. Test loss: 0.386.. Test Accuracy: 0.867\n",
            "Epoch: 7/30.. Training loss: 0.262.. Test loss: 0.401.. Test Accuracy: 0.870\n",
            "Epoch: 8/30.. Training loss: 0.260.. Test loss: 0.370.. Test Accuracy: 0.875\n",
            "Epoch: 9/30.. Training loss: 0.259.. Test loss: 0.379.. Test Accuracy: 0.875\n",
            "Epoch: 10/30.. Training loss: 0.258.. Test loss: 0.378.. Test Accuracy: 0.874\n",
            "Epoch: 11/30.. Training loss: 0.256.. Test loss: 0.386.. Test Accuracy: 0.874\n",
            "Epoch: 12/30.. Training loss: 0.254.. Test loss: 0.391.. Test Accuracy: 0.870\n",
            "Epoch: 13/30.. Training loss: 0.253.. Test loss: 0.380.. Test Accuracy: 0.873\n",
            "Epoch: 14/30.. Training loss: 0.252.. Test loss: 0.377.. Test Accuracy: 0.875\n",
            "Epoch: 15/30.. Training loss: 0.254.. Test loss: 0.381.. Test Accuracy: 0.871\n",
            "Epoch: 16/30.. Training loss: 0.251.. Test loss: 0.392.. Test Accuracy: 0.871\n",
            "Epoch: 17/30.. Training loss: 0.248.. Test loss: 0.389.. Test Accuracy: 0.870\n",
            "Epoch: 18/30.. Training loss: 0.247.. Test loss: 0.390.. Test Accuracy: 0.870\n",
            "Epoch: 19/30.. Training loss: 0.248.. Test loss: 0.372.. Test Accuracy: 0.874\n",
            "Epoch: 20/30.. Training loss: 0.246.. Test loss: 0.395.. Test Accuracy: 0.872\n",
            "Epoch: 21/30.. Training loss: 0.246.. Test loss: 0.387.. Test Accuracy: 0.871\n",
            "Epoch: 22/30.. Training loss: 0.245.. Test loss: 0.401.. Test Accuracy: 0.873\n",
            "Epoch: 23/30.. Training loss: 0.244.. Test loss: 0.393.. Test Accuracy: 0.873\n",
            "Epoch: 24/30.. Training loss: 0.241.. Test loss: 0.416.. Test Accuracy: 0.869\n",
            "Epoch: 25/30.. Training loss: 0.240.. Test loss: 0.396.. Test Accuracy: 0.875\n",
            "Epoch: 26/30.. Training loss: 0.243.. Test loss: 0.395.. Test Accuracy: 0.869\n",
            "Epoch: 27/30.. Training loss: 0.239.. Test loss: 0.394.. Test Accuracy: 0.877\n",
            "Epoch: 28/30.. Training loss: 0.236.. Test loss: 0.393.. Test Accuracy: 0.876\n",
            "Epoch: 29/30.. Training loss: 0.237.. Test loss: 0.415.. Test Accuracy: 0.874\n",
            "Epoch: 30/30.. Training loss: 0.237.. Test loss: 0.400.. Test Accuracy: 0.875\n"
          ]
        }
      ],
      "source": [
        "alphas = [0.001, 0.0001, 0.00001]\n",
        "alpha_results = []\n",
        "for alpha in alphas:\n",
        "    print(\"Running on alpha=\", alpha)\n",
        "    alpha_results .append(run_model_L2(base_model_l2, optimizer_l2, 30, alpha))"
      ]
    },
    {
      "cell_type": "markdown",
      "metadata": {
        "id": "Btl19z1MCHd6"
      },
      "source": [
        "Plotting train loss for these alphas"
      ]
    },
    {
      "cell_type": "code",
      "execution_count": 14,
      "metadata": {
        "colab": {
          "base_uri": "https://localhost:8080/",
          "height": 283
        },
        "id": "3gkyrrl1NlJl",
        "outputId": "14716ca4-3c87-41eb-9806-2c4668d1ecfc"
      },
      "outputs": [
        {
          "data": {
            "text/plain": [
              "<matplotlib.legend.Legend at 0x7f0a368aebd0>"
            ]
          },
          "execution_count": 14,
          "metadata": {},
          "output_type": "execute_result"
        },
        {
          "data": {
            "image/png": "[encoded data removed]",
            "text/plain": [
              "<Figure size 432x288 with 1 Axes>"
            ]
          },
          "metadata": {
            "needs_background": "light"
          },
          "output_type": "display_data"
        }
      ],
      "source": [
        "plt.plot(alpha_results[0][0], label = \"Training loss alpha = 0.001\")\n",
        "plt.plot(alpha_results[1][0], label = \"Training loss alpha = 0.0001\")\n",
        "plt.plot(alpha_results[2][0], label = \"Training loss alpha = 0.00001\")\n",
        "plt.legend(frameon = False)\n"
      ]
    },
    {
      "cell_type": "markdown",
      "metadata": {
        "id": "CDusxNs_CzCz"
      },
      "source": [
        "Plotting test loss for these alphas"
      ]
    },
    {
      "cell_type": "code",
      "execution_count": 15,
      "metadata": {
        "colab": {
          "base_uri": "https://localhost:8080/",
          "height": 283
        },
        "id": "hmZL6qz7CyB5",
        "outputId": "0e103248-94e9-4b77-bfe1-f2333fc84440"
      },
      "outputs": [
        {
          "data": {
            "text/plain": [
              "<matplotlib.legend.Legend at 0x7f0a3693fa10>"
            ]
          },
          "execution_count": 15,
          "metadata": {},
          "output_type": "execute_result"
        },
        {
          "data": {
            "image/png": "[encoded data removed]",
            "text/plain": [
              "<Figure size 432x288 with 1 Axes>"
            ]
          },
          "metadata": {
            "needs_background": "light"
          },
          "output_type": "display_data"
        }
      ],
      "source": [
        "plt.plot(alpha_results[0][1], label = \"Testing loss alpha = 0.001\")\n",
        "plt.plot(alpha_results[1][1], label = \"Testing loss alpha = 0.0001\")\n",
        "plt.plot(alpha_results[2][1], label = \"Testing loss alpha = 0.00001\")\n",
        "plt.legend(frameon = False)\n"
      ]
    },
    {
      "cell_type": "code",
      "execution_count": null,
      "metadata": {
        "id": "K0vRklVNC9zH"
      },
      "outputs": [],
      "source": []
    }
  ],
  "metadata": {
    "accelerator": "GPU",
    "colab": {
      "collapsed_sections": [],
      "provenance": []
    },
    "gpuClass": "standard",
    "kernelspec": {
      "display_name": "Python 3",
      "language": "python",
      "name": "python3"
    },
    "language_info": {
      "name": "python",
      "version": "3.10.7"
    },
    "vscode": {
      "interpreter": {
        "hash": "aee8b7b246df8f9039afb4144a1f6fd8d2ca17a180786b69acc140d282b71a49"
      }
    },
    "widgets": {
      "application/vnd.jupyter.widget-state+json": {
        "0109328934884b46bd6a8e19d0b97fc2": {
          "model_module": "@jupyter-widgets/controls",
          "model_module_version": "1.5.0",
          "model_name": "HBoxModel",
          "state": {
            "_dom_classes": [],
            "_model_module": "@jupyter-widgets/controls",
            "_model_module_version": "1.5.0",
            "_model_name": "HBoxModel",
            "_view_count": null,
            "_view_module": "@jupyter-widgets/controls",
            "_view_module_version": "1.5.0",
            "_view_name": "HBoxView",
            "box_style": "",
            "children": [
              "IPY_MODEL_af4146865a5e480b8962aed440b3cfc0",
              "IPY_MODEL_2f102c1e097542cc954d1cc88d5ce3db",
              "IPY_MODEL_8f398620b0314c319f0325ba949a1a62"
            ],
            "layout": "IPY_MODEL_d235cfc458df46b58bed60fc9ea3d65d"
          }
        },
        "09defa97281b48ca9156442e706c04f6": {
          "model_module": "@jupyter-widgets/controls",
          "model_module_version": "1.5.0",
          "model_name": "FloatProgressModel",
          "state": {
            "_dom_classes": [],
            "_model_module": "@jupyter-widgets/controls",
            "_model_module_version": "1.5.0",
            "_model_name": "FloatProgressModel",
            "_view_count": null,
            "_view_module": "@jupyter-widgets/controls",
            "_view_module_version": "1.5.0",
            "_view_name": "ProgressView",
            "bar_style": "success",
            "description": "",
            "description_tooltip": null,
            "layout": "IPY_MODEL_9102a933c7e340b3abb53467d3967caf",
            "max": 26421880,
            "min": 0,
            "orientation": "horizontal",
            "style": "IPY_MODEL_cb2fc6e4b9ed4c36bfc1ca095f1f6fab",
            "value": 26421880
          }
        },
        "09fb90a2e33c4d0b87157847d3c4352f": {
          "model_module": "@jupyter-widgets/controls",
          "model_module_version": "1.5.0",
          "model_name": "FloatProgressModel",
          "state": {
            "_dom_classes": [],
            "_model_module": "@jupyter-widgets/controls",
            "_model_module_version": "1.5.0",
            "_model_name": "FloatProgressModel",
            "_view_count": null,
            "_view_module": "@jupyter-widgets/controls",
            "_view_module_version": "1.5.0",
            "_view_name": "ProgressView",
            "bar_style": "success",
            "description": "",
            "description_tooltip": null,
            "layout": "IPY_MODEL_667e2a6eeafa4d159cbb51a17fa65220",
            "max": 4422102,
            "min": 0,
            "orientation": "horizontal",
            "style": "IPY_MODEL_8dfad1d20b92499a8a0174f2093612c6",
            "value": 4422102
          }
        },
        "0d43388a60a143b2bfe3b5ecaf9384a4": {
          "model_module": "@jupyter-widgets/base",
          "model_module_version": "1.2.0",
          "model_name": "LayoutModel",
          "state": {
            "_model_module": "@jupyter-widgets/base",
            "_model_module_version": "1.2.0",
            "_model_name": "LayoutModel",
            "_view_count": null,
            "_view_module": "@jupyter-widgets/base",
            "_view_module_version": "1.2.0",
            "_view_name": "LayoutView",
            "align_content": null,
            "align_items": null,
            "align_self": null,
            "border": null,
            "bottom": null,
            "display": null,
            "flex": null,
            "flex_flow": null,
            "grid_area": null,
            "grid_auto_columns": null,
            "grid_auto_flow": null,
            "grid_auto_rows": null,
            "grid_column": null,
            "grid_gap": null,
            "grid_row": null,
            "grid_template_areas": null,
            "grid_template_columns": null,
            "grid_template_rows": null,
            "height": null,
            "justify_content": null,
            "justify_items": null,
            "left": null,
            "margin": null,
            "max_height": null,
            "max_width": null,
            "min_height": null,
            "min_width": null,
            "object_fit": null,
            "object_position": null,
            "order": null,
            "overflow": null,
            "overflow_x": null,
            "overflow_y": null,
            "padding": null,
            "right": null,
            "top": null,
            "visibility": null,
            "width": null
          }
        },
        "1493f599c8c6484e9ab6b08ad3f39c3c": {
          "model_module": "@jupyter-widgets/base",
          "model_module_version": "1.2.0",
          "model_name": "LayoutModel",
          "state": {
            "_model_module": "@jupyter-widgets/base",
            "_model_module_version": "1.2.0",
            "_model_name": "LayoutModel",
            "_view_count": null,
            "_view_module": "@jupyter-widgets/base",
            "_view_module_version": "1.2.0",
            "_view_name": "LayoutView",
            "align_content": null,
            "align_items": null,
            "align_self": null,
            "border": null,
            "bottom": null,
            "display": null,
            "flex": null,
            "flex_flow": null,
            "grid_area": null,
            "grid_auto_columns": null,
            "grid_auto_flow": null,
            "grid_auto_rows": null,
            "grid_column": null,
            "grid_gap": null,
            "grid_row": null,
            "grid_template_areas": null,
            "grid_template_columns": null,
            "grid_template_rows": null,
            "height": null,
            "justify_content": null,
            "justify_items": null,
            "left": null,
            "margin": null,
            "max_height": null,
            "max_width": null,
            "min_height": null,
            "min_width": null,
            "object_fit": null,
            "object_position": null,
            "order": null,
            "overflow": null,
            "overflow_x": null,
            "overflow_y": null,
            "padding": null,
            "right": null,
            "top": null,
            "visibility": null,
            "width": null
          }
        },
        "1da7f36128ae4233953c4886d3ca6821": {
          "model_module": "@jupyter-widgets/controls",
          "model_module_version": "1.5.0",
          "model_name": "DescriptionStyleModel",
          "state": {
            "_model_module": "@jupyter-widgets/controls",
            "_model_module_version": "1.5.0",
            "_model_name": "DescriptionStyleModel",
            "_view_count": null,
            "_view_module": "@jupyter-widgets/base",
            "_view_module_version": "1.2.0",
            "_view_name": "StyleView",
            "description_width": ""
          }
        },
        "2f102c1e097542cc954d1cc88d5ce3db": {
          "model_module": "@jupyter-widgets/controls",
          "model_module_version": "1.5.0",
          "model_name": "FloatProgressModel",
          "state": {
            "_dom_classes": [],
            "_model_module": "@jupyter-widgets/controls",
            "_model_module_version": "1.5.0",
            "_model_name": "FloatProgressModel",
            "_view_count": null,
            "_view_module": "@jupyter-widgets/controls",
            "_view_module_version": "1.5.0",
            "_view_name": "ProgressView",
            "bar_style": "success",
            "description": "",
            "description_tooltip": null,
            "layout": "IPY_MODEL_33e82302c302439a9c58c3fc0d54c0b5",
            "max": 5148,
            "min": 0,
            "orientation": "horizontal",
            "style": "IPY_MODEL_6c607d8cb56248bc8c4edf26501326fb",
            "value": 5148
          }
        },
        "33e82302c302439a9c58c3fc0d54c0b5": {
          "model_module": "@jupyter-widgets/base",
          "model_module_version": "1.2.0",
          "model_name": "LayoutModel",
          "state": {
            "_model_module": "@jupyter-widgets/base",
            "_model_module_version": "1.2.0",
            "_model_name": "LayoutModel",
            "_view_count": null,
            "_view_module": "@jupyter-widgets/base",
            "_view_module_version": "1.2.0",
            "_view_name": "LayoutView",
            "align_content": null,
            "align_items": null,
            "align_self": null,
            "border": null,
            "bottom": null,
            "display": null,
            "flex": null,
            "flex_flow": null,
            "grid_area": null,
            "grid_auto_columns": null,
            "grid_auto_flow": null,
            "grid_auto_rows": null,
            "grid_column": null,
            "grid_gap": null,
            "grid_row": null,
            "grid_template_areas": null,
            "grid_template_columns": null,
            "grid_template_rows": null,
            "height": null,
            "justify_content": null,
            "justify_items": null,
            "left": null,
            "margin": null,
            "max_height": null,
            "max_width": null,
            "min_height": null,
            "min_width": null,
            "object_fit": null,
            "object_position": null,
            "order": null,
            "overflow": null,
            "overflow_x": null,
            "overflow_y": null,
            "padding": null,
            "right": null,
            "top": null,
            "visibility": null,
            "width": null
          }
        },
        "3644150957b2468694b7726d6c7a3ee4": {
          "model_module": "@jupyter-widgets/controls",
          "model_module_version": "1.5.0",
          "model_name": "HTMLModel",
          "state": {
            "_dom_classes": [],
            "_model_module": "@jupyter-widgets/controls",
            "_model_module_version": "1.5.0",
            "_model_name": "HTMLModel",
            "_view_count": null,
            "_view_module": "@jupyter-widgets/controls",
            "_view_module_version": "1.5.0",
            "_view_name": "HTMLView",
            "description": "",
            "description_tooltip": null,
            "layout": "IPY_MODEL_0d43388a60a143b2bfe3b5ecaf9384a4",
            "placeholder": "​",
            "style": "IPY_MODEL_77df7c1fc8054275bb2797bf3cd5f565",
            "value": "100%"
          }
        },
        "3ffea3f662414dab9a28c1bf4670f343": {
          "model_module": "@jupyter-widgets/base",
          "model_module_version": "1.2.0",
          "model_name": "LayoutModel",
          "state": {
            "_model_module": "@jupyter-widgets/base",
            "_model_module_version": "1.2.0",
            "_model_name": "LayoutModel",
            "_view_count": null,
            "_view_module": "@jupyter-widgets/base",
            "_view_module_version": "1.2.0",
            "_view_name": "LayoutView",
            "align_content": null,
            "align_items": null,
            "align_self": null,
            "border": null,
            "bottom": null,
            "display": null,
            "flex": null,
            "flex_flow": null,
            "grid_area": null,
            "grid_auto_columns": null,
            "grid_auto_flow": null,
            "grid_auto_rows": null,
            "grid_column": null,
            "grid_gap": null,
            "grid_row": null,
            "grid_template_areas": null,
            "grid_template_columns": null,
            "grid_template_rows": null,
            "height": null,
            "justify_content": null,
            "justify_items": null,
            "left": null,
            "margin": null,
            "max_height": null,
            "max_width": null,
            "min_height": null,
            "min_width": null,
            "object_fit": null,
            "object_position": null,
            "order": null,
            "overflow": null,
            "overflow_x": null,
            "overflow_y": null,
            "padding": null,
            "right": null,
            "top": null,
            "visibility": null,
            "width": null
          }
        },
        "4e35b281e2df49b38fe361a0f651b423": {
          "model_module": "@jupyter-widgets/base",
          "model_module_version": "1.2.0",
          "model_name": "LayoutModel",
          "state": {
            "_model_module": "@jupyter-widgets/base",
            "_model_module_version": "1.2.0",
            "_model_name": "LayoutModel",
            "_view_count": null,
            "_view_module": "@jupyter-widgets/base",
            "_view_module_version": "1.2.0",
            "_view_name": "LayoutView",
            "align_content": null,
            "align_items": null,
            "align_self": null,
            "border": null,
            "bottom": null,
            "display": null,
            "flex": null,
            "flex_flow": null,
            "grid_area": null,
            "grid_auto_columns": null,
            "grid_auto_flow": null,
            "grid_auto_rows": null,
            "grid_column": null,
            "grid_gap": null,
            "grid_row": null,
            "grid_template_areas": null,
            "grid_template_columns": null,
            "grid_template_rows": null,
            "height": null,
            "justify_content": null,
            "justify_items": null,
            "left": null,
            "margin": null,
            "max_height": null,
            "max_width": null,
            "min_height": null,
            "min_width": null,
            "object_fit": null,
            "object_position": null,
            "order": null,
            "overflow": null,
            "overflow_x": null,
            "overflow_y": null,
            "padding": null,
            "right": null,
            "top": null,
            "visibility": null,
            "width": null
          }
        },
        "5ee3116349154d0082eefcddc1e5a4ef": {
          "model_module": "@jupyter-widgets/base",
          "model_module_version": "1.2.0",
          "model_name": "LayoutModel",
          "state": {
            "_model_module": "@jupyter-widgets/base",
            "_model_module_version": "1.2.0",
            "_model_name": "LayoutModel",
            "_view_count": null,
            "_view_module": "@jupyter-widgets/base",
            "_view_module_version": "1.2.0",
            "_view_name": "LayoutView",
            "align_content": null,
            "align_items": null,
            "align_self": null,
            "border": null,
            "bottom": null,
            "display": null,
            "flex": null,
            "flex_flow": null,
            "grid_area": null,
            "grid_auto_columns": null,
            "grid_auto_flow": null,
            "grid_auto_rows": null,
            "grid_column": null,
            "grid_gap": null,
            "grid_row": null,
            "grid_template_areas": null,
            "grid_template_columns": null,
            "grid_template_rows": null,
            "height": null,
            "justify_content": null,
            "justify_items": null,
            "left": null,
            "margin": null,
            "max_height": null,
            "max_width": null,
            "min_height": null,
            "min_width": null,
            "object_fit": null,
            "object_position": null,
            "order": null,
            "overflow": null,
            "overflow_x": null,
            "overflow_y": null,
            "padding": null,
            "right": null,
            "top": null,
            "visibility": null,
            "width": null
          }
        },
        "636029b25363438bb4fa85a73ba8d34e": {
          "model_module": "@jupyter-widgets/controls",
          "model_module_version": "1.5.0",
          "model_name": "DescriptionStyleModel",
          "state": {
            "_model_module": "@jupyter-widgets/controls",
            "_model_module_version": "1.5.0",
            "_model_name": "DescriptionStyleModel",
            "_view_count": null,
            "_view_module": "@jupyter-widgets/base",
            "_view_module_version": "1.2.0",
            "_view_name": "StyleView",
            "description_width": ""
          }
        },
        "667e2a6eeafa4d159cbb51a17fa65220": {
          "model_module": "@jupyter-widgets/base",
          "model_module_version": "1.2.0",
          "model_name": "LayoutModel",
          "state": {
            "_model_module": "@jupyter-widgets/base",
            "_model_module_version": "1.2.0",
            "_model_name": "LayoutModel",
            "_view_count": null,
            "_view_module": "@jupyter-widgets/base",
            "_view_module_version": "1.2.0",
            "_view_name": "LayoutView",
            "align_content": null,
            "align_items": null,
            "align_self": null,
            "border": null,
            "bottom": null,
            "display": null,
            "flex": null,
            "flex_flow": null,
            "grid_area": null,
            "grid_auto_columns": null,
            "grid_auto_flow": null,
            "grid_auto_rows": null,
            "grid_column": null,
            "grid_gap": null,
            "grid_row": null,
            "grid_template_areas": null,
            "grid_template_columns": null,
            "grid_template_rows": null,
            "height": null,
            "justify_content": null,
            "justify_items": null,
            "left": null,
            "margin": null,
            "max_height": null,
            "max_width": null,
            "min_height": null,
            "min_width": null,
            "object_fit": null,
            "object_position": null,
            "order": null,
            "overflow": null,
            "overflow_x": null,
            "overflow_y": null,
            "padding": null,
            "right": null,
            "top": null,
            "visibility": null,
            "width": null
          }
        },
        "6c607d8cb56248bc8c4edf26501326fb": {
          "model_module": "@jupyter-widgets/controls",
          "model_module_version": "1.5.0",
          "model_name": "ProgressStyleModel",
          "state": {
            "_model_module": "@jupyter-widgets/controls",
            "_model_module_version": "1.5.0",
            "_model_name": "ProgressStyleModel",
            "_view_count": null,
            "_view_module": "@jupyter-widgets/base",
            "_view_module_version": "1.2.0",
            "_view_name": "StyleView",
            "bar_color": null,
            "description_width": ""
          }
        },
        "6dec3606e3d94ca2b50c755ee9acbae6": {
          "model_module": "@jupyter-widgets/base",
          "model_module_version": "1.2.0",
          "model_name": "LayoutModel",
          "state": {
            "_model_module": "@jupyter-widgets/base",
            "_model_module_version": "1.2.0",
            "_model_name": "LayoutModel",
            "_view_count": null,
            "_view_module": "@jupyter-widgets/base",
            "_view_module_version": "1.2.0",
            "_view_name": "LayoutView",
            "align_content": null,
            "align_items": null,
            "align_self": null,
            "border": null,
            "bottom": null,
            "display": null,
            "flex": null,
            "flex_flow": null,
            "grid_area": null,
            "grid_auto_columns": null,
            "grid_auto_flow": null,
            "grid_auto_rows": null,
            "grid_column": null,
            "grid_gap": null,
            "grid_row": null,
            "grid_template_areas": null,
            "grid_template_columns": null,
            "grid_template_rows": null,
            "height": null,
            "justify_content": null,
            "justify_items": null,
            "left": null,
            "margin": null,
            "max_height": null,
            "max_width": null,
            "min_height": null,
            "min_width": null,
            "object_fit": null,
            "object_position": null,
            "order": null,
            "overflow": null,
            "overflow_x": null,
            "overflow_y": null,
            "padding": null,
            "right": null,
            "top": null,
            "visibility": null,
            "width": null
          }
        },
        "70d9961fcf5348b0be6e7b1611bfffe7": {
          "model_module": "@jupyter-widgets/controls",
          "model_module_version": "1.5.0",
          "model_name": "HTMLModel",
          "state": {
            "_dom_classes": [],
            "_model_module": "@jupyter-widgets/controls",
            "_model_module_version": "1.5.0",
            "_model_name": "HTMLModel",
            "_view_count": null,
            "_view_module": "@jupyter-widgets/controls",
            "_view_module_version": "1.5.0",
            "_view_name": "HTMLView",
            "description": "",
            "description_tooltip": null,
            "layout": "IPY_MODEL_fd3faf5a6b2b4d41a0571da53e5d4f88",
            "placeholder": "​",
            "style": "IPY_MODEL_ab613e7cf2ad4a4dab1b770266802348",
            "value": "100%"
          }
        },
        "77458735a4e242f5a310090ca69af281": {
          "model_module": "@jupyter-widgets/base",
          "model_module_version": "1.2.0",
          "model_name": "LayoutModel",
          "state": {
            "_model_module": "@jupyter-widgets/base",
            "_model_module_version": "1.2.0",
            "_model_name": "LayoutModel",
            "_view_count": null,
            "_view_module": "@jupyter-widgets/base",
            "_view_module_version": "1.2.0",
            "_view_name": "LayoutView",
            "align_content": null,
            "align_items": null,
            "align_self": null,
            "border": null,
            "bottom": null,
            "display": null,
            "flex": null,
            "flex_flow": null,
            "grid_area": null,
            "grid_auto_columns": null,
            "grid_auto_flow": null,
            "grid_auto_rows": null,
            "grid_column": null,
            "grid_gap": null,
            "grid_row": null,
            "grid_template_areas": null,
            "grid_template_columns": null,
            "grid_template_rows": null,
            "height": null,
            "justify_content": null,
            "justify_items": null,
            "left": null,
            "margin": null,
            "max_height": null,
            "max_width": null,
            "min_height": null,
            "min_width": null,
            "object_fit": null,
            "object_position": null,
            "order": null,
            "overflow": null,
            "overflow_x": null,
            "overflow_y": null,
            "padding": null,
            "right": null,
            "top": null,
            "visibility": null,
            "width": null
          }
        },
        "77df7c1fc8054275bb2797bf3cd5f565": {
          "model_module": "@jupyter-widgets/controls",
          "model_module_version": "1.5.0",
          "model_name": "DescriptionStyleModel",
          "state": {
            "_model_module": "@jupyter-widgets/controls",
            "_model_module_version": "1.5.0",
            "_model_name": "DescriptionStyleModel",
            "_view_count": null,
            "_view_module": "@jupyter-widgets/base",
            "_view_module_version": "1.2.0",
            "_view_name": "StyleView",
            "description_width": ""
          }
        },
        "7fc25d70877644f1a836c34e79bc11ca": {
          "model_module": "@jupyter-widgets/controls",
          "model_module_version": "1.5.0",
          "model_name": "DescriptionStyleModel",
          "state": {
            "_model_module": "@jupyter-widgets/controls",
            "_model_module_version": "1.5.0",
            "_model_name": "DescriptionStyleModel",
            "_view_count": null,
            "_view_module": "@jupyter-widgets/base",
            "_view_module_version": "1.2.0",
            "_view_name": "StyleView",
            "description_width": ""
          }
        },
        "7fc26bd41dfc401489d3e7c55ae945d5": {
          "model_module": "@jupyter-widgets/base",
          "model_module_version": "1.2.0",
          "model_name": "LayoutModel",
          "state": {
            "_model_module": "@jupyter-widgets/base",
            "_model_module_version": "1.2.0",
            "_model_name": "LayoutModel",
            "_view_count": null,
            "_view_module": "@jupyter-widgets/base",
            "_view_module_version": "1.2.0",
            "_view_name": "LayoutView",
            "align_content": null,
            "align_items": null,
            "align_self": null,
            "border": null,
            "bottom": null,
            "display": null,
            "flex": null,
            "flex_flow": null,
            "grid_area": null,
            "grid_auto_columns": null,
            "grid_auto_flow": null,
            "grid_auto_rows": null,
            "grid_column": null,
            "grid_gap": null,
            "grid_row": null,
            "grid_template_areas": null,
            "grid_template_columns": null,
            "grid_template_rows": null,
            "height": null,
            "justify_content": null,
            "justify_items": null,
            "left": null,
            "margin": null,
            "max_height": null,
            "max_width": null,
            "min_height": null,
            "min_width": null,
            "object_fit": null,
            "object_position": null,
            "order": null,
            "overflow": null,
            "overflow_x": null,
            "overflow_y": null,
            "padding": null,
            "right": null,
            "top": null,
            "visibility": null,
            "width": null
          }
        },
        "89bf94ec747447ab83766aa6563c9ebf": {
          "model_module": "@jupyter-widgets/controls",
          "model_module_version": "1.5.0",
          "model_name": "DescriptionStyleModel",
          "state": {
            "_model_module": "@jupyter-widgets/controls",
            "_model_module_version": "1.5.0",
            "_model_name": "DescriptionStyleModel",
            "_view_count": null,
            "_view_module": "@jupyter-widgets/base",
            "_view_module_version": "1.2.0",
            "_view_name": "StyleView",
            "description_width": ""
          }
        },
        "8dfad1d20b92499a8a0174f2093612c6": {
          "model_module": "@jupyter-widgets/controls",
          "model_module_version": "1.5.0",
          "model_name": "ProgressStyleModel",
          "state": {
            "_model_module": "@jupyter-widgets/controls",
            "_model_module_version": "1.5.0",
            "_model_name": "ProgressStyleModel",
            "_view_count": null,
            "_view_module": "@jupyter-widgets/base",
            "_view_module_version": "1.2.0",
            "_view_name": "StyleView",
            "bar_color": null,
            "description_width": ""
          }
        },
        "8f398620b0314c319f0325ba949a1a62": {
          "model_module": "@jupyter-widgets/controls",
          "model_module_version": "1.5.0",
          "model_name": "HTMLModel",
          "state": {
            "_dom_classes": [],
            "_model_module": "@jupyter-widgets/controls",
            "_model_module_version": "1.5.0",
            "_model_name": "HTMLModel",
            "_view_count": null,
            "_view_module": "@jupyter-widgets/controls",
            "_view_module_version": "1.5.0",
            "_view_name": "HTMLView",
            "description": "",
            "description_tooltip": null,
            "layout": "IPY_MODEL_7fc26bd41dfc401489d3e7c55ae945d5",
            "placeholder": "​",
            "style": "IPY_MODEL_be46f68cbcfd41b88019415f3cc39ff6",
            "value": " 5148/5148 [00:00&lt;00:00, 161750.81it/s]"
          }
        },
        "90d9324fb9434d77b30fe1565443c862": {
          "model_module": "@jupyter-widgets/controls",
          "model_module_version": "1.5.0",
          "model_name": "HBoxModel",
          "state": {
            "_dom_classes": [],
            "_model_module": "@jupyter-widgets/controls",
            "_model_module_version": "1.5.0",
            "_model_name": "HBoxModel",
            "_view_count": null,
            "_view_module": "@jupyter-widgets/controls",
            "_view_module_version": "1.5.0",
            "_view_name": "HBoxView",
            "box_style": "",
            "children": [
              "IPY_MODEL_e6c53878a2394d76b8eaeda93c90a97a",
              "IPY_MODEL_09fb90a2e33c4d0b87157847d3c4352f",
              "IPY_MODEL_edac8003e1914193a515c25219487e9e"
            ],
            "layout": "IPY_MODEL_1493f599c8c6484e9ab6b08ad3f39c3c"
          }
        },
        "9102a933c7e340b3abb53467d3967caf": {
          "model_module": "@jupyter-widgets/base",
          "model_module_version": "1.2.0",
          "model_name": "LayoutModel",
          "state": {
            "_model_module": "@jupyter-widgets/base",
            "_model_module_version": "1.2.0",
            "_model_name": "LayoutModel",
            "_view_count": null,
            "_view_module": "@jupyter-widgets/base",
            "_view_module_version": "1.2.0",
            "_view_name": "LayoutView",
            "align_content": null,
            "align_items": null,
            "align_self": null,
            "border": null,
            "bottom": null,
            "display": null,
            "flex": null,
            "flex_flow": null,
            "grid_area": null,
            "grid_auto_columns": null,
            "grid_auto_flow": null,
            "grid_auto_rows": null,
            "grid_column": null,
            "grid_gap": null,
            "grid_row": null,
            "grid_template_areas": null,
            "grid_template_columns": null,
            "grid_template_rows": null,
            "height": null,
            "justify_content": null,
            "justify_items": null,
            "left": null,
            "margin": null,
            "max_height": null,
            "max_width": null,
            "min_height": null,
            "min_width": null,
            "object_fit": null,
            "object_position": null,
            "order": null,
            "overflow": null,
            "overflow_x": null,
            "overflow_y": null,
            "padding": null,
            "right": null,
            "top": null,
            "visibility": null,
            "width": null
          }
        },
        "9ba487a90b2a4a4785e818087102e9a5": {
          "model_module": "@jupyter-widgets/controls",
          "model_module_version": "1.5.0",
          "model_name": "HTMLModel",
          "state": {
            "_dom_classes": [],
            "_model_module": "@jupyter-widgets/controls",
            "_model_module_version": "1.5.0",
            "_model_name": "HTMLModel",
            "_view_count": null,
            "_view_module": "@jupyter-widgets/controls",
            "_view_module_version": "1.5.0",
            "_view_name": "HTMLView",
            "description": "",
            "description_tooltip": null,
            "layout": "IPY_MODEL_6dec3606e3d94ca2b50c755ee9acbae6",
            "placeholder": "​",
            "style": "IPY_MODEL_89bf94ec747447ab83766aa6563c9ebf",
            "value": " 29515/29515 [00:00&lt;00:00, 334145.47it/s]"
          }
        },
        "9d3607a468774b5e93495560368f27fb": {
          "model_module": "@jupyter-widgets/controls",
          "model_module_version": "1.5.0",
          "model_name": "HBoxModel",
          "state": {
            "_dom_classes": [],
            "_model_module": "@jupyter-widgets/controls",
            "_model_module_version": "1.5.0",
            "_model_name": "HBoxModel",
            "_view_count": null,
            "_view_module": "@jupyter-widgets/controls",
            "_view_module_version": "1.5.0",
            "_view_name": "HBoxView",
            "box_style": "",
            "children": [
              "IPY_MODEL_3644150957b2468694b7726d6c7a3ee4",
              "IPY_MODEL_e0bea71c045d4e9d8a4202dfad64fc03",
              "IPY_MODEL_9ba487a90b2a4a4785e818087102e9a5"
            ],
            "layout": "IPY_MODEL_4e35b281e2df49b38fe361a0f651b423"
          }
        },
        "a2036db5108f448fa5a86857ec03ec39": {
          "model_module": "@jupyter-widgets/controls",
          "model_module_version": "1.5.0",
          "model_name": "HTMLModel",
          "state": {
            "_dom_classes": [],
            "_model_module": "@jupyter-widgets/controls",
            "_model_module_version": "1.5.0",
            "_model_name": "HTMLModel",
            "_view_count": null,
            "_view_module": "@jupyter-widgets/controls",
            "_view_module_version": "1.5.0",
            "_view_name": "HTMLView",
            "description": "",
            "description_tooltip": null,
            "layout": "IPY_MODEL_ac431a747b5b4f9fae0a69a91e9c1d6d",
            "placeholder": "​",
            "style": "IPY_MODEL_1da7f36128ae4233953c4886d3ca6821",
            "value": " 26421880/26421880 [00:01&lt;00:00, 27484738.69it/s]"
          }
        },
        "ab613e7cf2ad4a4dab1b770266802348": {
          "model_module": "@jupyter-widgets/controls",
          "model_module_version": "1.5.0",
          "model_name": "DescriptionStyleModel",
          "state": {
            "_model_module": "@jupyter-widgets/controls",
            "_model_module_version": "1.5.0",
            "_model_name": "DescriptionStyleModel",
            "_view_count": null,
            "_view_module": "@jupyter-widgets/base",
            "_view_module_version": "1.2.0",
            "_view_name": "StyleView",
            "description_width": ""
          }
        },
        "ab66add384a64d8f837e307e66b17d02": {
          "model_module": "@jupyter-widgets/base",
          "model_module_version": "1.2.0",
          "model_name": "LayoutModel",
          "state": {
            "_model_module": "@jupyter-widgets/base",
            "_model_module_version": "1.2.0",
            "_model_name": "LayoutModel",
            "_view_count": null,
            "_view_module": "@jupyter-widgets/base",
            "_view_module_version": "1.2.0",
            "_view_name": "LayoutView",
            "align_content": null,
            "align_items": null,
            "align_self": null,
            "border": null,
            "bottom": null,
            "display": null,
            "flex": null,
            "flex_flow": null,
            "grid_area": null,
            "grid_auto_columns": null,
            "grid_auto_flow": null,
            "grid_auto_rows": null,
            "grid_column": null,
            "grid_gap": null,
            "grid_row": null,
            "grid_template_areas": null,
            "grid_template_columns": null,
            "grid_template_rows": null,
            "height": null,
            "justify_content": null,
            "justify_items": null,
            "left": null,
            "margin": null,
            "max_height": null,
            "max_width": null,
            "min_height": null,
            "min_width": null,
            "object_fit": null,
            "object_position": null,
            "order": null,
            "overflow": null,
            "overflow_x": null,
            "overflow_y": null,
            "padding": null,
            "right": null,
            "top": null,
            "visibility": null,
            "width": null
          }
        },
        "ac431a747b5b4f9fae0a69a91e9c1d6d": {
          "model_module": "@jupyter-widgets/base",
          "model_module_version": "1.2.0",
          "model_name": "LayoutModel",
          "state": {
            "_model_module": "@jupyter-widgets/base",
            "_model_module_version": "1.2.0",
            "_model_name": "LayoutModel",
            "_view_count": null,
            "_view_module": "@jupyter-widgets/base",
            "_view_module_version": "1.2.0",
            "_view_name": "LayoutView",
            "align_content": null,
            "align_items": null,
            "align_self": null,
            "border": null,
            "bottom": null,
            "display": null,
            "flex": null,
            "flex_flow": null,
            "grid_area": null,
            "grid_auto_columns": null,
            "grid_auto_flow": null,
            "grid_auto_rows": null,
            "grid_column": null,
            "grid_gap": null,
            "grid_row": null,
            "grid_template_areas": null,
            "grid_template_columns": null,
            "grid_template_rows": null,
            "height": null,
            "justify_content": null,
            "justify_items": null,
            "left": null,
            "margin": null,
            "max_height": null,
            "max_width": null,
            "min_height": null,
            "min_width": null,
            "object_fit": null,
            "object_position": null,
            "order": null,
            "overflow": null,
            "overflow_x": null,
            "overflow_y": null,
            "padding": null,
            "right": null,
            "top": null,
            "visibility": null,
            "width": null
          }
        },
        "af11b975a87b421091b1cdb5702b066b": {
          "model_module": "@jupyter-widgets/controls",
          "model_module_version": "1.5.0",
          "model_name": "DescriptionStyleModel",
          "state": {
            "_model_module": "@jupyter-widgets/controls",
            "_model_module_version": "1.5.0",
            "_model_name": "DescriptionStyleModel",
            "_view_count": null,
            "_view_module": "@jupyter-widgets/base",
            "_view_module_version": "1.2.0",
            "_view_name": "StyleView",
            "description_width": ""
          }
        },
        "af4146865a5e480b8962aed440b3cfc0": {
          "model_module": "@jupyter-widgets/controls",
          "model_module_version": "1.5.0",
          "model_name": "HTMLModel",
          "state": {
            "_dom_classes": [],
            "_model_module": "@jupyter-widgets/controls",
            "_model_module_version": "1.5.0",
            "_model_name": "HTMLModel",
            "_view_count": null,
            "_view_module": "@jupyter-widgets/controls",
            "_view_module_version": "1.5.0",
            "_view_name": "HTMLView",
            "description": "",
            "description_tooltip": null,
            "layout": "IPY_MODEL_77458735a4e242f5a310090ca69af281",
            "placeholder": "​",
            "style": "IPY_MODEL_636029b25363438bb4fa85a73ba8d34e",
            "value": "100%"
          }
        },
        "be46f68cbcfd41b88019415f3cc39ff6": {
          "model_module": "@jupyter-widgets/controls",
          "model_module_version": "1.5.0",
          "model_name": "DescriptionStyleModel",
          "state": {
            "_model_module": "@jupyter-widgets/controls",
            "_model_module_version": "1.5.0",
            "_model_name": "DescriptionStyleModel",
            "_view_count": null,
            "_view_module": "@jupyter-widgets/base",
            "_view_module_version": "1.2.0",
            "_view_name": "StyleView",
            "description_width": ""
          }
        },
        "cb2fc6e4b9ed4c36bfc1ca095f1f6fab": {
          "model_module": "@jupyter-widgets/controls",
          "model_module_version": "1.5.0",
          "model_name": "ProgressStyleModel",
          "state": {
            "_model_module": "@jupyter-widgets/controls",
            "_model_module_version": "1.5.0",
            "_model_name": "ProgressStyleModel",
            "_view_count": null,
            "_view_module": "@jupyter-widgets/base",
            "_view_module_version": "1.2.0",
            "_view_name": "StyleView",
            "bar_color": null,
            "description_width": ""
          }
        },
        "d235cfc458df46b58bed60fc9ea3d65d": {
          "model_module": "@jupyter-widgets/base",
          "model_module_version": "1.2.0",
          "model_name": "LayoutModel",
          "state": {
            "_model_module": "@jupyter-widgets/base",
            "_model_module_version": "1.2.0",
            "_model_name": "LayoutModel",
            "_view_count": null,
            "_view_module": "@jupyter-widgets/base",
            "_view_module_version": "1.2.0",
            "_view_name": "LayoutView",
            "align_content": null,
            "align_items": null,
            "align_self": null,
            "border": null,
            "bottom": null,
            "display": null,
            "flex": null,
            "flex_flow": null,
            "grid_area": null,
            "grid_auto_columns": null,
            "grid_auto_flow": null,
            "grid_auto_rows": null,
            "grid_column": null,
            "grid_gap": null,
            "grid_row": null,
            "grid_template_areas": null,
            "grid_template_columns": null,
            "grid_template_rows": null,
            "height": null,
            "justify_content": null,
            "justify_items": null,
            "left": null,
            "margin": null,
            "max_height": null,
            "max_width": null,
            "min_height": null,
            "min_width": null,
            "object_fit": null,
            "object_position": null,
            "order": null,
            "overflow": null,
            "overflow_x": null,
            "overflow_y": null,
            "padding": null,
            "right": null,
            "top": null,
            "visibility": null,
            "width": null
          }
        },
        "e0bea71c045d4e9d8a4202dfad64fc03": {
          "model_module": "@jupyter-widgets/controls",
          "model_module_version": "1.5.0",
          "model_name": "FloatProgressModel",
          "state": {
            "_dom_classes": [],
            "_model_module": "@jupyter-widgets/controls",
            "_model_module_version": "1.5.0",
            "_model_name": "FloatProgressModel",
            "_view_count": null,
            "_view_module": "@jupyter-widgets/controls",
            "_view_module_version": "1.5.0",
            "_view_name": "ProgressView",
            "bar_style": "success",
            "description": "",
            "description_tooltip": null,
            "layout": "IPY_MODEL_ab66add384a64d8f837e307e66b17d02",
            "max": 29515,
            "min": 0,
            "orientation": "horizontal",
            "style": "IPY_MODEL_e22b670302fc4e3e90df2f056634362c",
            "value": 29515
          }
        },
        "e22b670302fc4e3e90df2f056634362c": {
          "model_module": "@jupyter-widgets/controls",
          "model_module_version": "1.5.0",
          "model_name": "ProgressStyleModel",
          "state": {
            "_model_module": "@jupyter-widgets/controls",
            "_model_module_version": "1.5.0",
            "_model_name": "ProgressStyleModel",
            "_view_count": null,
            "_view_module": "@jupyter-widgets/base",
            "_view_module_version": "1.2.0",
            "_view_name": "StyleView",
            "bar_color": null,
            "description_width": ""
          }
        },
        "e6c53878a2394d76b8eaeda93c90a97a": {
          "model_module": "@jupyter-widgets/controls",
          "model_module_version": "1.5.0",
          "model_name": "HTMLModel",
          "state": {
            "_dom_classes": [],
            "_model_module": "@jupyter-widgets/controls",
            "_model_module_version": "1.5.0",
            "_model_name": "HTMLModel",
            "_view_count": null,
            "_view_module": "@jupyter-widgets/controls",
            "_view_module_version": "1.5.0",
            "_view_name": "HTMLView",
            "description": "",
            "description_tooltip": null,
            "layout": "IPY_MODEL_fe629eae9b6b4105aded7ecd52310f69",
            "placeholder": "​",
            "style": "IPY_MODEL_af11b975a87b421091b1cdb5702b066b",
            "value": "100%"
          }
        },
        "edac8003e1914193a515c25219487e9e": {
          "model_module": "@jupyter-widgets/controls",
          "model_module_version": "1.5.0",
          "model_name": "HTMLModel",
          "state": {
            "_dom_classes": [],
            "_model_module": "@jupyter-widgets/controls",
            "_model_module_version": "1.5.0",
            "_model_name": "HTMLModel",
            "_view_count": null,
            "_view_module": "@jupyter-widgets/controls",
            "_view_module_version": "1.5.0",
            "_view_name": "HTMLView",
            "description": "",
            "description_tooltip": null,
            "layout": "IPY_MODEL_5ee3116349154d0082eefcddc1e5a4ef",
            "placeholder": "​",
            "style": "IPY_MODEL_7fc25d70877644f1a836c34e79bc11ca",
            "value": " 4422102/4422102 [00:00&lt;00:00, 7692332.34it/s]"
          }
        },
        "ee4f01e6a75e46b093ad7a2c913eeedc": {
          "model_module": "@jupyter-widgets/controls",
          "model_module_version": "1.5.0",
          "model_name": "HBoxModel",
          "state": {
            "_dom_classes": [],
            "_model_module": "@jupyter-widgets/controls",
            "_model_module_version": "1.5.0",
            "_model_name": "HBoxModel",
            "_view_count": null,
            "_view_module": "@jupyter-widgets/controls",
            "_view_module_version": "1.5.0",
            "_view_name": "HBoxView",
            "box_style": "",
            "children": [
              "IPY_MODEL_70d9961fcf5348b0be6e7b1611bfffe7",
              "IPY_MODEL_09defa97281b48ca9156442e706c04f6",
              "IPY_MODEL_a2036db5108f448fa5a86857ec03ec39"
            ],
            "layout": "IPY_MODEL_3ffea3f662414dab9a28c1bf4670f343"
          }
        },
        "fd3faf5a6b2b4d41a0571da53e5d4f88": {
          "model_module": "@jupyter-widgets/base",
          "model_module_version": "1.2.0",
          "model_name": "LayoutModel",
          "state": {
            "_model_module": "@jupyter-widgets/base",
            "_model_module_version": "1.2.0",
            "_model_name": "LayoutModel",
            "_view_count": null,
            "_view_module": "@jupyter-widgets/base",
            "_view_module_version": "1.2.0",
            "_view_name": "LayoutView",
            "align_content": null,
            "align_items": null,
            "align_self": null,
            "border": null,
            "bottom": null,
            "display": null,
            "flex": null,
            "flex_flow": null,
            "grid_area": null,
            "grid_auto_columns": null,
            "grid_auto_flow": null,
            "grid_auto_rows": null,
            "grid_column": null,
            "grid_gap": null,
            "grid_row": null,
            "grid_template_areas": null,
            "grid_template_columns": null,
            "grid_template_rows": null,
            "height": null,
            "justify_content": null,
            "justify_items": null,
            "left": null,
            "margin": null,
            "max_height": null,
            "max_width": null,
            "min_height": null,
            "min_width": null,
            "object_fit": null,
            "object_position": null,
            "order": null,
            "overflow": null,
            "overflow_x": null,
            "overflow_y": null,
            "padding": null,
            "right": null,
            "top": null,
            "visibility": null,
            "width": null
          }
        },
        "fe629eae9b6b4105aded7ecd52310f69": {
          "model_module": "@jupyter-widgets/base",
          "model_module_version": "1.2.0",
          "model_name": "LayoutModel",
          "state": {
            "_model_module": "@jupyter-widgets/base",
            "_model_module_version": "1.2.0",
            "_model_name": "LayoutModel",
            "_view_count": null,
            "_view_module": "@jupyter-widgets/base",
            "_view_module_version": "1.2.0",
            "_view_name": "LayoutView",
            "align_content": null,
            "align_items": null,
            "align_self": null,
            "border": null,
            "bottom": null,
            "display": null,
            "flex": null,
            "flex_flow": null,
            "grid_area": null,
            "grid_auto_columns": null,
            "grid_auto_flow": null,
            "grid_auto_rows": null,
            "grid_column": null,
            "grid_gap": null,
            "grid_row": null,
            "grid_template_areas": null,
            "grid_template_columns": null,
            "grid_template_rows": null,
            "height": null,
            "justify_content": null,
            "justify_items": null,
            "left": null,
            "margin": null,
            "max_height": null,
            "max_width": null,
            "min_height": null,
            "min_width": null,
            "object_fit": null,
            "object_position": null,
            "order": null,
            "overflow": null,
            "overflow_x": null,
            "overflow_y": null,
            "padding": null,
            "right": null,
            "top": null,
            "visibility": null,
            "width": null
          }
        }
      }
    }
  },
  "nbformat": 4,
  "nbformat_minor": 0
}
